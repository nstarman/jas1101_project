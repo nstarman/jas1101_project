{
 "cells": [
  {
   "cell_type": "code",
   "execution_count": 2,
   "metadata": {},
   "outputs": [
    {
     "ename": "ModuleNotFoundError",
     "evalue": "No module named 'modeling'",
     "output_type": "error",
     "traceback": [
      "\u001b[0;31m---------------------------------------------------------------------------\u001b[0m",
      "\u001b[0;31mModuleNotFoundError\u001b[0m                       Traceback (most recent call last)",
      "\u001b[0;32m<ipython-input-2-9f0ffa55754a>\u001b[0m in \u001b[0;36m<module>\u001b[0;34m\u001b[0m\n\u001b[1;32m     19\u001b[0m \u001b[0;32mfrom\u001b[0m \u001b[0mdynesty\u001b[0m \u001b[0;32mimport\u001b[0m \u001b[0mutils\u001b[0m \u001b[0;32mas\u001b[0m \u001b[0mdyfunc\u001b[0m\u001b[0;34m\u001b[0m\u001b[0;34m\u001b[0m\u001b[0m\n\u001b[1;32m     20\u001b[0m \u001b[0;34m\u001b[0m\u001b[0m\n\u001b[0;32m---> 21\u001b[0;31m \u001b[0;32mfrom\u001b[0m \u001b[0mmodeling\u001b[0m \u001b[0;32mimport\u001b[0m \u001b[0mvel_disp_profile\u001b[0m\u001b[0;34m\u001b[0m\u001b[0;34m\u001b[0m\u001b[0m\n\u001b[0m\u001b[1;32m     22\u001b[0m \u001b[0;32mfrom\u001b[0m \u001b[0mutils\u001b[0m \u001b[0;32mimport\u001b[0m \u001b[0mcolobar_non_mappable\u001b[0m\u001b[0;34m\u001b[0m\u001b[0;34m\u001b[0m\u001b[0m\n\u001b[1;32m     23\u001b[0m \u001b[0;34m\u001b[0m\u001b[0m\n",
      "\u001b[0;31mModuleNotFoundError\u001b[0m: No module named 'modeling'"
     ]
    }
   ],
   "source": [
    "import re\n",
    "import os\n",
    "import sys\n",
    "sys.path.insert(0, '../src/')\n",
    "\n",
    "import numpy as np\n",
    "rng = np.random.RandomState(0)\n",
    "\n",
    "import matplotlib.pyplot as plt\n",
    "import scipy.stats as stats\n",
    "import astropy.units as u\n",
    "import pandas as pd\n",
    "\n",
    "from galpy.df import jeans\n",
    "from galpy import potential\n",
    "\n",
    "import dynesty\n",
    "from dynesty import plotting as dyplot\n",
    "from dynesty import utils as dyfunc\n",
    "\n",
    "from modeling import vel_disp_profile\n",
    "from utils import colobar_non_mappable\n",
    "\n",
    "%load_ext autoreload\n",
    "%autoreload 2"
   ]
  },
  {
   "cell_type": "code",
   "execution_count": null,
   "metadata": {},
   "outputs": [],
   "source": [
    "bins = np.linspace(0.12,0.3,10)\n",
    "\n",
    "r_scale = 18.3 * u.arcmin.to(u.rad) * dist\n",
    "dist = 4.5e3 * u.pc\n",
    "R_bins = (bins* u.deg).to_value(u.rad) * dist"
   ]
  },
  {
   "cell_type": "code",
   "execution_count": null,
   "metadata": {},
   "outputs": [],
   "source": [
    "r_scale"
   ]
  },
  {
   "cell_type": "code",
   "execution_count": null,
   "metadata": {},
   "outputs": [],
   "source": [
    "x_bins = (bins[:-1]+bins[1:])/2\n",
    "x_bins"
   ]
  },
  {
   "cell_type": "markdown",
   "metadata": {},
   "source": [
    "### Displaying Models"
   ]
  },
  {
   "cell_type": "code",
   "execution_count": null,
   "metadata": {},
   "outputs": [],
   "source": [
    "R = R_bins.copy()\n",
    "\n",
    "N_mod = 25\n",
    "models = np.zeros((N_mod, len(R))) * (u.km/u.s)\n",
    "BH_amp = np.linspace(1e3,1e4,N_mod) * u.solMass\n",
    "\n",
    "fig, ax = plt.subplots(1,1, figsize=(8,6))\n",
    "ax.set_prop_cycle('color', plt.cm.magma(np.linspace(0,1,N_mod-1)))\n",
    "for i, bh_amp in enumerate(BH_amp[:-1]):\n",
    "    mod = vel_disp_profile(R, 1e6 * u.solMass-bh_amp, r_scale, bh_amp)\n",
    "    models[i] = mod\n",
    "    if i>0:\n",
    "        plt.fill_between(R, models[i-1]-0.001*u.km/u.s, mod+0.001*u.km/u.s, edgecolor=\"None\")\n",
    "        \n",
    "plt.xlabel(\"R (pc)\")\n",
    "plt.ylabel(\"$\\sigma_r$ (km/s)\")\n",
    "plt.text(0.75,0.8,\"Plummer Sph\\n+ BH\", fontsize=20,\n",
    "         ha=\"center\", va=\"center\", transform=ax.transAxes)\n",
    "        \n",
    "colobar_non_mappable(fig, ax, vmin=BH_amp.value.min(),vmax=BH_amp.value.max())"
   ]
  },
  {
   "cell_type": "markdown",
   "metadata": {},
   "source": [
    "### Realistic Synthetic Model"
   ]
  },
  {
   "cell_type": "code",
   "execution_count": null,
   "metadata": {},
   "outputs": [],
   "source": [
    "x = stats.truncnorm(loc=10, scale=5, a=0, b=2).rvs(2500) * u.pc\n",
    "sigma = vel_disp_profile(x, 1e6 * u.solMass, r_scale, 2e4 * u.solMass).value\n",
    "y = 5 + rng.normal(0, sigma, len(x))\n",
    "\n",
    "plt.figure(figsize=(7,5))\n",
    "plt.scatter(x, y, c='r', s=10, edgecolors=(0, 0, 0), alpha=0.7)\n",
    "plt.axhline(5, c='r')"
   ]
  },
  {
   "cell_type": "code",
   "execution_count": null,
   "metadata": {},
   "outputs": [],
   "source": []
  },
  {
   "cell_type": "markdown",
   "metadata": {},
   "source": [
    "### Sampling using Dynesty"
   ]
  },
  {
   "cell_type": "code",
   "execution_count": null,
   "metadata": {},
   "outputs": [],
   "source": [
    "def prior(u):\n",
    "    v = u.copy()\n",
    "    v[0] = u[0] * 2 + 5          # amp\n",
    "    v[1] = u[1] * 6 + 20         # scale\n",
    "    v[2] = u[2] * 3.5 + 1        # BH amp\n",
    "    return v\n",
    "\n",
    "def loglike(v, R=x):\n",
    "    log_amp, scale, log_BH_amp = v\n",
    "    amp, BH_amp = 10**log_amp * u.solMass, 10**log_BH_amp * u.solMass\n",
    "    \n",
    "    pot = potential.PlummerPotential(amp=amp, b=scale*u.pc) + potential.KeplerPotential(amp=BH_amp)\n",
    "\n",
    "    sigma = np.array([jeans.sigmar(pot, r).to_value(u.km/u.s) for r in R])\n",
    "    \n",
    "    ypred = 5\n",
    "        \n",
    "    residsq = (ypred - y)**2 / sigma**2\n",
    "    loglike = -0.5 * np.sum(residsq + np.log(2 * np.pi * sigma**2))\n",
    "\n",
    "    if not np.isfinite(loglike):\n",
    "        loglike = -1e100\n",
    "\n",
    "    return loglike"
   ]
  },
  {
   "cell_type": "code",
   "execution_count": null,
   "metadata": {},
   "outputs": [],
   "source": [
    "nlive_init=100\n",
    "nlive_batch=25\n",
    "maxbatch=2\n",
    "pfrac=0.8\n",
    "\n",
    "dlogz = 1e-3 * (nlive_init - 1) + 0.01"
   ]
  },
  {
   "cell_type": "code",
   "execution_count": null,
   "metadata": {},
   "outputs": [],
   "source": [
    "pdsampler = dynesty.DynamicNestedSampler(loglike, prior, 3)\n",
    "pdsampler.run_nested(nlive_init=nlive_init, \n",
    "                     nlive_batch=nlive_batch, \n",
    "                     maxbatch=maxbatch, \n",
    "                     dlogz_init=dlogz, \n",
    "                     wt_kwargs={'pfrac': pfrac})"
   ]
  },
  {
   "cell_type": "code",
   "execution_count": null,
   "metadata": {},
   "outputs": [],
   "source": []
  },
  {
   "cell_type": "markdown",
   "metadata": {},
   "source": [
    "### Try Grid Interpolation"
   ]
  },
  {
   "cell_type": "code",
   "execution_count": null,
   "metadata": {},
   "outputs": [],
   "source": [
    "coef = np.polyfit(x, sigma, 2)\n",
    "poly = np.poly1d(coef)\n",
    "plt.scatter(x, sigma, s=5, label=\"Model\")\n",
    "\n",
    "xp = np.linspace(10, 20, 100)\n",
    "plt.plot(xp, poly(xp), 'r-', label=\"Poly Fit\")\n",
    "plt.legend()"
   ]
  },
  {
   "cell_type": "code",
   "execution_count": null,
   "metadata": {},
   "outputs": [],
   "source": []
  },
  {
   "cell_type": "code",
   "execution_count": null,
   "metadata": {},
   "outputs": [],
   "source": [
    "rp = xp * u.pc\n",
    "pot = potential.PlummerPotential(amp=1e6*u.solMass, b=r_scale) + potential.KeplerPotential(amp=2e4*u.solMass)\n",
    "yp = np.array([jeans.sigmar(pot, r).to_value(u.km/u.s) for r in rp])\n",
    "sigma_p = np.interp(x, xp, yp)\n",
    "\n",
    "plt.scatter(x, sigma, s=5, label=\"Model\")\n",
    "plt.scatter(x, sigma_p, s=5, label=\"Intp\")"
   ]
  },
  {
   "cell_type": "markdown",
   "metadata": {},
   "source": [
    "### Sampling Start From Here"
   ]
  },
  {
   "cell_type": "code",
   "execution_count": null,
   "metadata": {},
   "outputs": [],
   "source": []
  },
  {
   "cell_type": "code",
   "execution_count": null,
   "metadata": {},
   "outputs": [],
   "source": [
    "N_amp = 3\n",
    "N_BH = 20\n",
    "\n",
    "Amp = np.linspace(9e5, 1.1e6, N_amp) * u.solMass\n",
    "BH_amp = np.linspace(1e3, 4e4, N_BH) * u.solMass\n",
    "print(Amp)\n",
    "print(BH_amp)\n",
    "\n",
    "models = np.zeros((N_amp, N_BH, len(xp))) * (u.km/u.s)\n",
    "\n",
    "for i, amp in enumerate(Amp):\n",
    "    for j, bh_amp in enumerate(BH_amp):\n",
    "        model = vel_disp_profile(xp*u.pc, amp - bh_amp, r_scale, bh_amp)\n",
    "        models[i,j] = model\n",
    "        \n",
    "i_true = np.argmin(abs(Amp-1e6*u.solMass))\n",
    "j_true = np.argmin(abs(BH_amp-2e4*u.solMass))\n",
    "print(i_true, j_true)"
   ]
  },
  {
   "cell_type": "code",
   "execution_count": null,
   "metadata": {},
   "outputs": [],
   "source": [
    "fig, ax = plt.subplots(1,1, figsize=(8,6))\n",
    "ax.set_prop_cycle('color', plt.cm.magma(np.linspace(0,1,int(N_amp*N_BH))))\n",
    "for i, amp in enumerate(Amp):\n",
    "    for j, bh_amp in enumerate(BH_amp):\n",
    "        model = models[i,j]\n",
    "        plt.plot(xp, model)"
   ]
  },
  {
   "cell_type": "code",
   "execution_count": null,
   "metadata": {},
   "outputs": [],
   "source": [
    "def prior_grid(u):\n",
    "    v = u.copy()\n",
    "    v[0] = int(u[0]*N_amp)\n",
    "    v[1] = int(u[1]*N_BH)\n",
    "    return v\n",
    "\n",
    "def loglike_grid(v):\n",
    "    i, j = v\n",
    "    model = models[int(i), int(j)]\n",
    "    \n",
    "    sigma = np.interp(x, xp, model)\n",
    "    \n",
    "    ypred = 5\n",
    "        \n",
    "    residsq = (ypred - y)**2 / sigma**2\n",
    "    loglike = -0.5 * np.sum(residsq + np.log(2 * np.pi * sigma**2))\n",
    "\n",
    "    if not np.isfinite(loglike):\n",
    "        loglike = -1e100\n",
    "\n",
    "    return loglike"
   ]
  },
  {
   "cell_type": "code",
   "execution_count": null,
   "metadata": {},
   "outputs": [],
   "source": [
    "pdsampler = dynesty.DynamicNestedSampler(loglike_grid, prior_grid, 2)\n",
    "pdsampler.run_nested(nlive_init=nlive_init, \n",
    "                     nlive_batch=nlive_batch, \n",
    "                     maxbatch=maxbatch, \n",
    "                     dlogz_init=dlogz, \n",
    "                     wt_kwargs={'pfrac': pfrac})"
   ]
  },
  {
   "cell_type": "code",
   "execution_count": null,
   "metadata": {},
   "outputs": [],
   "source": [
    "fig, ax = plt.subplots(2,2,figsize=(7,7))\n",
    "dyplot.cornerplot(pdsampler.results, truths=[i_true,j_true], labels=[\"Amp\", \"BH Amp\"], \n",
    "                  color=\"royalblue\", truth_color=\"indianred\",\n",
    "                  title_kwargs={'fontsize':15, 'y': 1.04}, title_fmt='.3f',\n",
    "                  label_kwargs={'fontsize':15}, show_titles=True, fig=(fig,ax))\n",
    "plt.show()"
   ]
  },
  {
   "cell_type": "code",
   "execution_count": null,
   "metadata": {},
   "outputs": [],
   "source": []
  }
 ],
 "metadata": {
  "kernelspec": {
   "display_name": "Python 3",
   "language": "python",
   "name": "python3"
  },
  "language_info": {
   "codemirror_mode": {
    "name": "ipython",
    "version": 3
   },
   "file_extension": ".py",
   "mimetype": "text/x-python",
   "name": "python",
   "nbconvert_exporter": "python",
   "pygments_lexer": "ipython3",
   "version": "3.7.3"
  }
 },
 "nbformat": 4,
 "nbformat_minor": 4
}
