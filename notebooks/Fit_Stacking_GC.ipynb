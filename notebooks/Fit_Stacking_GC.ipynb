{
 "cells": [
  {
   "cell_type": "code",
   "execution_count": 1,
   "metadata": {},
   "outputs": [],
   "source": [
    "import re\n",
    "import os\n",
    "import sys\n",
    "sys.path.insert(0, '../')\n",
    "import time\n",
    "\n",
    "import numpy as np\n",
    "rng = np.random.RandomState(0)\n",
    "\n",
    "import matplotlib.pyplot as plt\n",
    "import seaborn as sns\n",
    "\n",
    "import scipy.stats as stats\n",
    "import astropy.constants as constants\n",
    "from astropy.stats import mad_std\n",
    "import astropy.units as u\n",
    "\n",
    "import pandas as pd\n",
    "\n",
    "from jas1101finalproject import GlobularCluster\n",
    "from jas1101finalproject import plot\n",
    "from jas1101finalproject.plot import LogNorm, AsinhNorm\n",
    "from jas1101finalproject.utils import profile_binning\n",
    "\n",
    "from jas1101finalproject.fit import sigmar_2\n",
    "from jas1101finalproject.fit import set_prior, set_likelihood\n",
    "from jas1101finalproject.fit import DynamicNestedSampler\n",
    "\n",
    "from jas1101finalproject.plot import colorbar_non_mappable\n",
    "\n",
    "%load_ext autoreload\n",
    "%autoreload 2"
   ]
  },
  {
   "cell_type": "code",
   "execution_count": 4,
   "metadata": {},
   "outputs": [
    {
     "data": {
      "text/html": [
       "<i>QTable length=20</i>\n",
       "<table id=\"table140315385226184\" class=\"table-striped table-bordered table-condensed\">\n",
       "<thead><tr><th>Name</th><th>ra</th><th>dec</th><th>dist</th><th>vlos</th><th>vloserr</th><th>sigma</th><th>rmax</th><th>pmra</th><th>pmdec</th><th>pmra_e</th><th>pmdec_e</th><th>pmcorr</th><th>nstar</th><th>rscale</th><th>pmdisp</th><th>pmscale</th><th>pmscale_e</th><th>pm</th><th>sc</th></tr></thead>\n",
       "<thead><tr><th></th><th>deg</th><th>deg</th><th>kpc</th><th>km / s</th><th>km / s</th><th>km / s</th><th>arcmin</th><th>mas / yr</th><th>mas / yr</th><th>mas / yr</th><th>mas / yr</th><th></th><th></th><th>arcmin</th><th>mas / yr</th><th>mas / yr</th><th>mas / yr</th><th>mas / yr</th><th>kpc,kpc,kpc</th></tr></thead>\n",
       "<thead><tr><th>str15</th><th>float64</th><th>float64</th><th>float64</th><th>float64</th><th>float64</th><th>float64</th><th>float64</th><th>float64</th><th>float64</th><th>float64</th><th>float64</th><th>float64</th><th>float64</th><th>float64</th><th>float64</th><th>float64</th><th>float64</th><th>float64</th><th>object</th></tr></thead>\n",
       "<tr><td>NGC_6352</td><td>261.371</td><td>-48.422</td><td>5.6</td><td>-125.6</td><td>1.0</td><td>3.5</td><td>10.0</td><td>-2.172</td><td>-4.398</td><td>0.056</td><td>0.056</td><td>0.003</td><td>2064.3</td><td>5.36</td><td>0.138</td><td>0.208</td><td>0.002</td><td>4.905098164155331</td><td>-0.5575897528143013,-3.6743112718598936,-4.189096602495557</td></tr>\n",
       "<tr><td>NGC_4372</td><td>186.439</td><td>-72.659</td><td>5.8</td><td>75.6</td><td>0.3</td><td>4.7</td><td>15.0</td><td>-6.378</td><td>3.358</td><td>0.05</td><td>0.05</td><td>0.001</td><td>2189.9</td><td>7.79</td><td>0.175</td><td>0.216</td><td>0.015</td><td>7.207985016632596</td><td>-1.7178312698669347,-0.19386974276312463,-5.53637699683722</td></tr>\n",
       "<tr><td>NGC_7078_M_15</td><td>322.493</td><td>12.167</td><td>10.4</td><td>-106.8</td><td>0.2</td><td>13.6</td><td>15.0</td><td>-0.643</td><td>-3.763</td><td>0.051</td><td>0.051</td><td>0.001</td><td>2198.4</td><td>9.92</td><td>0.15</td><td>0.253</td><td>0.004</td><td>3.817540831477772</td><td>8.064782846161782,-6.189891110876883,2.191922827049806</td></tr>\n",
       "<tr><td>NGC_6366</td><td>261.934</td><td>-5.0798</td><td>3.5</td><td>-120.7</td><td>0.2</td><td>2.9</td><td>12.0</td><td>-0.363</td><td>-5.115</td><td>0.053</td><td>0.053</td><td>0.015</td><td>2226.3</td><td>6.17</td><td>0.173</td><td>0.323</td><td>0.003</td><td>5.127864467787736</td><td>-0.489169139412986,-3.451764034498839,-0.30990095705927495</td></tr>\n",
       "<tr><td>NGC_288</td><td>13.1885</td><td>-26.582</td><td>8.9</td><td>-44.8</td><td>0.1</td><td>3.3</td><td>12.0</td><td>4.267</td><td>-5.636</td><td>0.054</td><td>0.053</td><td>0.018</td><td>2555.2</td><td>6.05</td><td>0.082</td><td>0.245</td><td>0.014</td><td>7.069072428543932</td><td>7.7492974589059225,1.8159404374775876,-3.9825556142919</td></tr>\n",
       "<tr><td>NGC_6838_M_71</td><td>298.443</td><td>18.7791</td><td>4.0</td><td>-22.3</td><td>0.2</td><td>2.9</td><td>10.0</td><td>-3.415</td><td>-2.614</td><td>0.054</td><td>0.054</td><td>0.005</td><td>2676.4</td><td>5.1</td><td>0.146</td><td>0.203</td><td>0.007</td><td>4.300607050173266</td><td>1.8037203450521444,-3.3299353471609288,1.2876814437481026</td></tr>\n",
       "<tr><td>NGC_6362</td><td>262.979</td><td>-67.048</td><td>7.6</td><td>-14.6</td><td>0.2</td><td>3.7</td><td>12.0</td><td>-5.51</td><td>-4.75</td><td>0.051</td><td>0.052</td><td>-0.0</td><td>2877.0</td><td>6.49</td><td>0.109</td><td>0.182</td><td>0.026</td><td>7.2747920932491255</td><td>-0.36226165897029655,-2.941471207269782,-6.998322200873788</td></tr>\n",
       "<tr><td>NGC_6218_M_12</td><td>251.809</td><td>-1.9485</td><td>4.8</td><td>-41.4</td><td>0.2</td><td>5.0</td><td>15.0</td><td>-0.141</td><td>-6.802</td><td>0.052</td><td>0.051</td><td>0.019</td><td>3356.7</td><td>6.77</td><td>0.184</td><td>0.298</td><td>0.043</td><td>6.803461251451352</td><td>-1.497624889423507,-4.5574646013839075,-0.16320569141989863</td></tr>\n",
       "<tr><td>NGC_5272_M_3</td><td>205.548</td><td>28.3772</td><td>10.2</td><td>-147.3</td><td>0.3</td><td>8.2</td><td>30.0</td><td>-0.142</td><td>-2.647</td><td>0.045</td><td>0.043</td><td>-0.006</td><td>3924.0</td><td>9.53</td><td>0.138</td><td>0.239</td><td>0.043</td><td>2.650806103810688</td><td>-8.096872403437256,-3.8703397991502047,4.8477961097358575</td></tr>\n",
       "<tr><td>NGC_6205_M_13</td><td>250.421</td><td>36.4598</td><td>7.1</td><td>-244.5</td><td>0.4</td><td>9.2</td><td>20.0</td><td>-3.164</td><td>-2.588</td><td>0.047</td><td>0.047</td><td>0.011</td><td>3982.6</td><td>10.31</td><td>0.19</td><td>0.282</td><td>0.026</td><td>4.087620334620133</td><td>-1.9135725284134764,-5.380175189071672,4.219236318742866</td></tr>\n",
       "<tr><td>NGC_6656_M_22</td><td>279.099</td><td>-23.904</td><td>3.2</td><td>-147.8</td><td>0.3</td><td>8.6</td><td>20.0</td><td>9.833</td><td>-5.557</td><td>0.047</td><td>0.047</td><td>0.008</td><td>4178.1</td><td>11.84</td><td>0.479</td><td>0.449</td><td>0.017</td><td>11.294606588987508</td><td>0.46264450997852463,-2.888709028220854,-1.29665732083001</td></tr>\n",
       "<tr><td>NGC_6809_M_55</td><td>294.998</td><td>-30.964</td><td>5.4</td><td>174.4</td><td>0.2</td><td>4.9</td><td>15.0</td><td>-3.42</td><td>-9.269</td><td>0.05</td><td>0.05</td><td>0.01</td><td>4224.4</td><td>8.83</td><td>0.185</td><td>0.285</td><td>0.008</td><td>9.8798158383646</td><td>1.9567662365131335,-4.196681192747123,-2.7782967555833222</td></tr>\n",
       "<tr><td>NGC_5904_M_5</td><td>229.638</td><td>2.08103</td><td>7.5</td><td>53.7</td><td>0.2</td><td>7.8</td><td>20.0</td><td>4.078</td><td>-9.854</td><td>0.047</td><td>0.047</td><td>-0.008</td><td>4502.0</td><td>10.0</td><td>0.189</td><td>0.315</td><td>0.011</td><td>10.664492486752474</td><td>-4.853906750796952,-5.71099087260776,0.2723463007984712</td></tr>\n",
       "<tr><td>NGC_6254_M_10</td><td>254.287</td><td>-4.1003</td><td>4.4</td><td>74.0</td><td>0.3</td><td>6.2</td><td>20.0</td><td>-4.759</td><td>-6.554</td><td>0.049</td><td>0.048</td><td>0.012</td><td>5285.6</td><td>8.16</td><td>0.225</td><td>0.331</td><td>0.019</td><td>8.099567704513618</td><td>-1.1885529972061286,-4.224732089657464,-0.31461173444550333</td></tr>\n",
       "<tr><td>NGC_3201</td><td>154.403</td><td>-46.412</td><td>4.9</td><td>494.3</td><td>0.1</td><td>4.3</td><td>20.0</td><td>8.324</td><td>-1.991</td><td>0.044</td><td>0.044</td><td>0.001</td><td>7021.1</td><td>12.5</td><td>0.19</td><td>0.278</td><td>0.005</td><td>8.558799974295463</td><td>-3.046820677500275,1.459595726639243,-3.549149767751881</td></tr>\n",
       "<tr><td>NGC_6121_M_4</td><td>245.896</td><td>-26.525</td><td>2.2</td><td>71.0</td><td>0.1</td><td>4.7</td><td>30.0</td><td>-12.49</td><td>-19.001</td><td>0.044</td><td>0.044</td><td>-0.001</td><td>7526.3</td><td>8.63</td><td>0.563</td><td>0.469</td><td>0.018</td><td>22.738471826400296</td><td>-0.8038941811268694,-1.796791404175595,-0.9824941706855336</td></tr>\n",
       "<tr><td>NGC_6752</td><td>287.717</td><td>-59.984</td><td>4.0</td><td>-26.3</td><td>0.2</td><td>8.3</td><td>25.0</td><td>-3.17</td><td>-4.043</td><td>0.042</td><td>0.042</td><td>0.004</td><td>10850.7</td><td>12.3</td><td>0.27</td><td>0.308</td><td>0.012</td><td>5.137582018810016</td><td>0.6089257747854783,-1.906063866480056,-3.463542974715487</td></tr>\n",
       "<tr><td>NGC_6397</td><td>265.175</td><td>-53.674</td><td>2.3</td><td>18.4</td><td>0.1</td><td>5.4</td><td>25.0</td><td>3.285</td><td>-17.621</td><td>0.043</td><td>0.043</td><td>0.001</td><td>11406.1</td><td>11.14</td><td>0.378</td><td>0.393</td><td>0.0</td><td>17.92458830768506</td><td>-0.11460105641910535,-1.3576430703122542,-1.853016970105978</td></tr>\n",
       "<tr><td>NGC_5139_oCen</td><td>201.696</td><td>-47.479</td><td>5.2</td><td>234.3</td><td>0.2</td><td>17.6</td><td>40.0</td><td>-3.234</td><td>-6.719</td><td>0.039</td><td>0.039</td><td>-0.002</td><td>23635.0</td><td>25.21</td><td>0.475</td><td>0.522</td><td>0.011</td><td>7.456789993019785</td><td>-3.265502995764545,-1.29923740052133,-3.8325542868613565</td></tr>\n",
       "<tr><td>NGC_104_47Tuc</td><td>6.02363</td><td>-72.081</td><td>4.5</td><td>-17.2</td><td>0.2</td><td>12.2</td><td>40.0</td><td>5.237</td><td>-2.524</td><td>0.039</td><td>0.039</td><td>-0.002</td><td>23917.2</td><td>18.3</td><td>0.418</td><td>0.399</td><td>0.015</td><td>5.8134967962492246</td><td>1.3768803520135557,0.14529010919422547,-4.281715927103217</td></tr>\n",
       "</table>"
      ],
      "text/plain": [
       "<QTable length=20>\n",
       "     Name     ...                              sc                            \n",
       "              ...                         kpc,kpc,kpc                        \n",
       "    str15     ...                            object                          \n",
       "------------- ... -----------------------------------------------------------\n",
       "     NGC_6352 ...  -0.5575897528143013,-3.6743112718598936,-4.189096602495557\n",
       "     NGC_4372 ...  -1.7178312698669347,-0.19386974276312463,-5.53637699683722\n",
       "NGC_7078_M_15 ...      8.064782846161782,-6.189891110876883,2.191922827049806\n",
       "     NGC_6366 ...  -0.489169139412986,-3.451764034498839,-0.30990095705927495\n",
       "      NGC_288 ...      7.7492974589059225,1.8159404374775876,-3.9825556142919\n",
       "NGC_6838_M_71 ...   1.8037203450521444,-3.3299353471609288,1.2876814437481026\n",
       "     NGC_6362 ...  -0.36226165897029655,-2.941471207269782,-6.998322200873788\n",
       "NGC_6218_M_12 ... -1.497624889423507,-4.5574646013839075,-0.16320569141989863\n",
       " NGC_5272_M_3 ...   -8.096872403437256,-3.8703397991502047,4.8477961097358575\n",
       "NGC_6205_M_13 ...    -1.9135725284134764,-5.380175189071672,4.219236318742866\n",
       "NGC_6656_M_22 ...    0.46264450997852463,-2.888709028220854,-1.29665732083001\n",
       "NGC_6809_M_55 ...   1.9567662365131335,-4.196681192747123,-2.7782967555833222\n",
       " NGC_5904_M_5 ...     -4.853906750796952,-5.71099087260776,0.2723463007984712\n",
       "NGC_6254_M_10 ... -1.1885529972061286,-4.224732089657464,-0.31461173444550333\n",
       "     NGC_3201 ...     -3.046820677500275,1.459595726639243,-3.549149767751881\n",
       " NGC_6121_M_4 ...  -0.8038941811268694,-1.796791404175595,-0.9824941706855336\n",
       "     NGC_6752 ...    0.6089257747854783,-1.906063866480056,-3.463542974715487\n",
       "     NGC_6397 ... -0.11460105641910535,-1.3576430703122542,-1.853016970105978\n",
       "NGC_5139_oCen ...    -3.265502995764545,-1.29923740052133,-3.8325542868613565\n",
       "NGC_104_47Tuc ...   1.3768803520135557,0.14529010919422547,-4.281715927103217"
      ]
     },
     "execution_count": 4,
     "metadata": {},
     "output_type": "execute_result"
    }
   ],
   "source": [
    "from jas1101finalproject.data import load_summary_table\n",
    "summary = load_summary_table()\n",
    "catalog = summary[summary['nstar']>2000]\n",
    "catalog.sort('nstar')\n",
    "catalog"
   ]
  },
  {
   "cell_type": "code",
   "execution_count": 8,
   "metadata": {},
   "outputs": [],
   "source": [
    "GCs = [GlobularCluster.from_name(name) for name in catalog[:-2]['Name']]"
   ]
  },
  {
   "cell_type": "code",
   "execution_count": null,
   "metadata": {},
   "outputs": [],
   "source": []
  },
  {
   "cell_type": "code",
   "execution_count": 30,
   "metadata": {},
   "outputs": [
    {
     "name": "stdout",
     "output_type": "stream",
     "text": [
      "r: 0.254 ~ 0.610\n",
      "r: 0.312 ~ 0.738\n",
      "r: 0.223 ~ 0.419\n",
      "r: 0.286 ~ 0.672\n",
      "r: 0.381 ~ 0.693\n",
      "r: 0.291 ~ 0.714\n",
      "r: 0.402 ~ 0.689\n",
      "r: 0.452 ~ 0.742\n",
      "r: 0.326 ~ 0.751\n",
      "r: 0.471 ~ 0.742\n",
      "r: 0.489 ~ 0.860\n",
      "r: 0.426 ~ 0.737\n",
      "r: 0.423 ~ 0.748\n",
      "r: 0.482 ~ 0.773\n",
      "r: 0.332 ~ 0.652\n",
      "r: 0.389 ~ 0.911\n",
      "r: 0.440 ~ 0.779\n",
      "r: 0.352 ~ 0.780\n"
     ]
    }
   ],
   "source": [
    "r_all, pm_all, pm_e_all = np.array([]), np.array([]), np.array([])\n",
    "for gc in GCs:\n",
    "    r = gc.r\n",
    "    pm = gc.pm - gc.pm.mean()\n",
    "    pm_e = gc.pm_e\n",
    "    \n",
    "    good = pm_e < 2\n",
    "    p = sns.distplot(gc.r[good], color='blue')\n",
    "    x_kde, y_kde = p.get_lines()[0].get_data()\n",
    "\n",
    "    x_peak = x_kde[np.argmax(y_kde)]\n",
    "    y_sol = y_kde.max()*0.85\n",
    "    left, right = x_kde<x_peak, x_kde>x_peak\n",
    "    x_left, x_right = [x_kde[side][np.argmin(abs(y_kde-y_sol)[side])] for side in (left, right)]\n",
    "\n",
    "    plt.close()\n",
    "\n",
    "    r_min, r_max = x_left, x_right\n",
    "    print(\"r: {0:.3f} ~ {1:.3f}\".format(r_min, r_max))\n",
    "#     cond = (r>r_min) & (r<r_max) & good\n",
    "    cond = (r>0.5) & (r<0.7) & good\n",
    "    \n",
    "    r_all = np.append(r_all, r[cond])\n",
    "    pm_all = np.append(pm_all, pm[cond])\n",
    "    pm_e_all = np.append(pm_e_all, pm_e[cond])\n"
   ]
  },
  {
   "cell_type": "code",
   "execution_count": 31,
   "metadata": {},
   "outputs": [
    {
     "data": {
      "text/plain": [
       "<matplotlib.legend.Legend at 0x7f9db67c4240>"
      ]
     },
     "execution_count": 31,
     "metadata": {},
     "output_type": "execute_result"
    },
    {
     "data": {
      "image/png": "[encoded data removed]",
      "text/plain": [
       "<Figure size 432x288 with 1 Axes>"
      ]
     },
     "metadata": {
      "needs_background": "light"
     },
     "output_type": "display_data"
    }
   ],
   "source": [
    "sns.distplot(r_all, label=\"All\")\n",
    "plt.xlabel(\"R (normed)\")\n",
    "plt.legend()"
   ]
  },
  {
   "cell_type": "code",
   "execution_count": 32,
   "metadata": {},
   "outputs": [
    {
     "data": {
      "text/plain": [
       "Text(0, 0.5, 'PM (normed)')"
      ]
     },
     "execution_count": 32,
     "metadata": {},
     "output_type": "execute_result"
    },
    {
     "data": {
      "image/png": "[encoded data removed]",
      "text/plain": [
       "<Figure size 432x360 with 1 Axes>"
      ]
     },
     "metadata": {
      "needs_background": "light"
     },
     "output_type": "display_data"
    }
   ],
   "source": [
    "# display r-pm hist2d\n",
    "fig, (ax) = plt.subplots(1,1,figsize=(6,5))\n",
    "H, xb, yb, _ = ax.hist2d(r_all, pm_all, bins=50, range=[[0,1],[-4,4]], norm=AsinhNorm(), cmap=\"gnuplot2\")\n",
    "\n",
    "ax.set_xlabel(\"R (normed)\") # normalized\n",
    "ax.set_ylabel(\"PM (normed)\") # normalized"
   ]
  },
  {
   "cell_type": "code",
   "execution_count": 37,
   "metadata": {},
   "outputs": [
    {
     "data": {
      "text/plain": [
       "Text(0, 0.5, '$\\\\sigma_r$ (normed)')"
      ]
     },
     "execution_count": 37,
     "metadata": {},
     "output_type": "execute_result"
    },
    {
     "data": {
      "image/png": "[encoded data removed]",
      "text/plain": [
       "<Figure size 432x288 with 1 Axes>"
      ]
     },
     "metadata": {
      "needs_background": "light"
     },
     "output_type": "display_data"
    }
   ],
   "source": [
    "bins=np.linspace(0.5, 0.7, 6)\n",
    "\n",
    "r_rbin, z_rbin, z_bins = profile_binning(r_all, pm_all, bins=bins, plot=False)\n",
    "plt.plot(r_rbin, [np.std(z_bins[i]['pm']) for i in range(len(z_bins))],'o-', label=\"All\")\n",
    "\n",
    "plt.legend()\n",
    "plt.xlabel(\"r (normed)\")\n",
    "plt.ylabel(\"$\\sigma_r$ (normed)\")"
   ]
  },
  {
   "cell_type": "code",
   "execution_count": 1,
   "metadata": {},
   "outputs": [
    {
     "data": {
      "text/plain": [
       "0.0034673685045253167"
      ]
     },
     "execution_count": 1,
     "metadata": {},
     "output_type": "execute_result"
    }
   ],
   "source": [
    "10**-2.4"
   ]
  },
  {
   "cell_type": "code",
   "execution_count": 12,
   "metadata": {},
   "outputs": [
    {
     "data": {
      "text/plain": [
       "2317.9178503781377"
      ]
     },
     "execution_count": 12,
     "metadata": {},
     "output_type": "execute_result"
    }
   ],
   "source": [
    "7e5 * 10**(-2.48)"
   ]
  },
  {
   "cell_type": "code",
   "execution_count": 10,
   "metadata": {},
   "outputs": [
    {
     "data": {
      "text/plain": [
       "2.2387211385683377"
      ]
     },
     "execution_count": 10,
     "metadata": {},
     "output_type": "execute_result"
    }
   ],
   "source": [
    "1e6 * 10**(-5.65)"
   ]
  },
  {
   "cell_type": "code",
   "execution_count": 14,
   "metadata": {},
   "outputs": [
    {
     "data": {
      "text/plain": [
       "(3590.0296879395537, 0.1035375871717745)"
      ]
     },
     "execution_count": 14,
     "metadata": {},
     "output_type": "execute_result"
    }
   ],
   "source": [
    "7e4 * 10**(-1.29), 7e4 * 10**(-5.83)"
   ]
  },
  {
   "cell_type": "code",
   "execution_count": null,
   "metadata": {},
   "outputs": [],
   "source": []
  }
 ],
 "metadata": {
  "kernelspec": {
   "display_name": "Python 3",
   "language": "python",
   "name": "python3"
  },
  "language_info": {
   "codemirror_mode": {
    "name": "ipython",
    "version": 3
   },
   "file_extension": ".py",
   "mimetype": "text/x-python",
   "name": "python",
   "nbconvert_exporter": "python",
   "pygments_lexer": "ipython3",
   "version": "3.7.3"
  }
 },
 "nbformat": 4,
 "nbformat_minor": 2
}
