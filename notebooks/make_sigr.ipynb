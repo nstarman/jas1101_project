{
 "cells": [
  {
   "cell_type": "markdown",
   "metadata": {},
   "source": [
    "# Title"
   ]
  },
  {
   "cell_type": "code",
   "execution_count": 2,
   "metadata": {
    "collapsed": false,
    "inputHidden": false,
    "jupyter": {
     "outputs_hidden": false
    },
    "outputHidden": false
   },
   "outputs": [],
   "source": [
    "\"\"\"markdown\n",
    "    TITLE   :\n",
    "    AUTHOR  :\n",
    "    PROJECT :\n",
    "\"\"\";\n",
    "\n",
    "__author__ = ''\n",
    "__version__ = ''"
   ]
  },
  {
   "cell_type": "markdown",
   "metadata": {},
   "source": [
    "<br><br>\n",
    "\n",
    "- - - \n",
    "- - - \n"
   ]
  },
  {
   "cell_type": "markdown",
   "metadata": {},
   "source": [
    "# Prepare"
   ]
  },
  {
   "cell_type": "markdown",
   "metadata": {
    "inputHidden": false,
    "outputHidden": false
   },
   "source": [
    "## Imports"
   ]
  },
  {
   "cell_type": "code",
   "execution_count": 3,
   "metadata": {
    "collapsed": false,
    "inputHidden": false,
    "jupyter": {
     "outputs_hidden": false
    },
    "outputHidden": false
   },
   "outputs": [
    {
     "name": "stdout",
     "output_type": "stream",
     "text": [
      "set autoreload to 1\n",
      "galpyWarning: interppotential_c extension module not loaded, because of error 'dlopen(/Users/nathanielstarkman/Software/dynamics/galpy/galpy_interppotential_c.cpython-37m-darwin.so, 6): Library not loaded: @rpath/libgsl.23.dylib\n",
      "  Referenced from: /Users/nathanielstarkman/Software/dynamics/galpy/galpy_interppotential_c.cpython-37m-darwin.so\n",
      "  Reason: image not found' \n",
      "galpyWarning: integratePlanarOrbit_c extension module not loaded, because of error 'dlopen(/Users/nathanielstarkman/Software/dynamics/galpy/galpy_integrate_c.cpython-37m-darwin.so, 6): Library not loaded: @rpath/libgsl.23.dylib\n",
      "  Referenced from: /Users/nathanielstarkman/Software/dynamics/galpy/galpy_integrate_c.cpython-37m-darwin.so\n",
      "  Reason: image not found' \n",
      "galpyWarning: integrateFullOrbit_c extension module not loaded, because of error 'dlopen(/Users/nathanielstarkman/Software/dynamics/galpy/galpy_integrate_c.cpython-37m-darwin.so, 6): Library not loaded: @rpath/libgsl.23.dylib\n",
      "  Referenced from: /Users/nathanielstarkman/Software/dynamics/galpy/galpy_integrate_c.cpython-37m-darwin.so\n",
      "  Reason: image not found' \n",
      "galpyWarning: integrateLinearOrbit_c extension module not loaded, because of error 'dlopen(/Users/nathanielstarkman/Software/dynamics/galpy/galpy_integrate_c.cpython-37m-darwin.so, 6): Library not loaded: @rpath/libgsl.23.dylib\n",
      "  Referenced from: /Users/nathanielstarkman/Software/dynamics/galpy/galpy_integrate_c.cpython-37m-darwin.so\n",
      "  Reason: image not found' \n"
     ]
    }
   ],
   "source": [
    "from astroPHD import ipython\n",
    "ipython.run_imports(base=True, astropy=True, matplotlib=True, galpy=True, verbose_imports=False)\n",
    "from astropy import constants\n",
    "\n",
    "\n",
    "\n",
    "# GENERAL\n",
    "import pandas as pd\n",
    "\n",
    "# CUSTOM\n",
    "\n",
    "# PROJECT-SPECIFIC"
   ]
  },
  {
   "cell_type": "markdown",
   "metadata": {},
   "source": [
    "<br><br>\n",
    "\n",
    "- - - \n",
    "- - - \n"
   ]
  },
  {
   "cell_type": "markdown",
   "metadata": {},
   "source": [
    "# Code"
   ]
  },
  {
   "cell_type": "code",
   "execution_count": 11,
   "metadata": {},
   "outputs": [
    {
     "data": {
      "text/html": [
       "<i>QTable length=150</i>\n",
       "<table id=\"table4837388112\" class=\"table-striped table-bordered table-condensed\">\n",
       "<thead><tr><th>Name</th><th>ra</th><th>dec</th><th>dist</th><th>vlos</th><th>vloserr</th><th>sigma</th><th>rmax</th><th>pmra</th><th>pmdec</th><th>pmra_e</th><th>pmdec_e</th><th>pmcorr</th><th>nstar</th><th>rscale</th><th>pmdisp</th><th>pmscale</th><th>pmscale_e</th></tr></thead>\n",
       "<thead><tr><th></th><th>deg</th><th>deg</th><th>kpc</th><th>km / s</th><th>km / s</th><th>km / s</th><th>arcmin</th><th>mas / yr</th><th>mas / yr</th><th>mas / yr</th><th>mas / yr</th><th></th><th></th><th>arcmin</th><th>mas / yr</th><th>mas / yr</th><th>mas / yr</th></tr></thead>\n",
       "<thead><tr><th>str15</th><th>float64</th><th>float64</th><th>float64</th><th>float64</th><th>float64</th><th>float64</th><th>float64</th><th>float64</th><th>float64</th><th>float64</th><th>float64</th><th>float64</th><th>float64</th><th>float64</th><th>float64</th><th>float64</th><th>float64</th></tr></thead>\n",
       "<tr><td>NGC_104_47Tuc</td><td>6.02363</td><td>-72.081</td><td>4.5</td><td>-17.2</td><td>0.2</td><td>12.2</td><td>40.0</td><td>5.237</td><td>-2.524</td><td>0.039</td><td>0.039</td><td>-0.002</td><td>23917.2</td><td>18.3</td><td>0.418</td><td>0.399</td><td>0.016</td></tr>\n",
       "<tr><td>NGC_288</td><td>13.1885</td><td>-26.582</td><td>8.9</td><td>-44.8</td><td>0.1</td><td>3.3</td><td>12.0</td><td>4.267</td><td>-5.636</td><td>0.054</td><td>0.053</td><td>0.018</td><td>2555.2</td><td>6.05</td><td>0.082</td><td>0.227</td><td>0.017</td></tr>\n",
       "<tr><td>NGC_362</td><td>15.8094</td><td>-70.848</td><td>8.6</td><td>223.3</td><td>0.3</td><td>8.8</td><td>12.0</td><td>6.73</td><td>-2.535</td><td>0.053</td><td>0.052</td><td>-0.004</td><td>1741.3</td><td>7.8</td><td>0.149</td><td>0.229</td><td>0.026</td></tr>\n",
       "<tr><td>Whiting_1</td><td>30.7375</td><td>-3.2527</td><td>30.1</td><td>-130.4</td><td>1.8</td><td>0.3</td><td>3.0</td><td>-0.234</td><td>-1.782</td><td>0.115</td><td>0.094</td><td>-0.05</td><td>11.1</td><td>0.48</td><td>0.0</td><td>2.71</td><td>2.451</td></tr>\n",
       "<tr><td>NGC_1261</td><td>48.0675</td><td>-55.216</td><td>16.3</td><td>71.4</td><td>0.2</td><td>5.8</td><td>10.0</td><td>1.632</td><td>-2.038</td><td>0.057</td><td>0.057</td><td>0.009</td><td>541.7</td><td>4.1</td><td>0.093</td><td>0.153</td><td>0.0</td></tr>\n",
       "<tr><td>Pal_1</td><td>53.3335</td><td>79.581</td><td>11.1</td><td>-75.4</td><td>0.2</td><td>0.5</td><td>3.0</td><td>-0.171</td><td>0.07</td><td>0.074</td><td>0.081</td><td>0.003</td><td>51.0</td><td>0.68</td><td>0.0</td><td>0.507</td><td>0.252</td></tr>\n",
       "<tr><td>AM_1</td><td>58.7595</td><td>-49.615</td><td>123.3</td><td>118.0</td><td>14.1</td><td>1.2</td><td>2.5</td><td>0.387</td><td>-0.406</td><td>0.129</td><td>0.167</td><td>-0.073</td><td>39.7</td><td>0.37</td><td>0.0</td><td>0.794</td><td>0.045</td></tr>\n",
       "<tr><td>Eridanus</td><td>66.1854</td><td>-21.186</td><td>90.1</td><td>-23.8</td><td>1.1</td><td>0.7</td><td>4.0</td><td>0.493</td><td>-0.402</td><td>0.084</td><td>0.087</td><td>-0.133</td><td>15.0</td><td>0.78</td><td>0.0</td><td>0.182</td><td>0.138</td></tr>\n",
       "<tr><td>Pal_2</td><td>71.5246</td><td>31.3815</td><td>27.2</td><td>-136.0</td><td>1.6</td><td>5.0</td><td>3.0</td><td>1.034</td><td>-1.557</td><td>0.075</td><td>0.068</td><td>0.009</td><td>76.5</td><td>1.52</td><td>0.02</td><td>0.375</td><td>0.121</td></tr>\n",
       "<tr><td>...</td><td>...</td><td>...</td><td>...</td><td>...</td><td>...</td><td>...</td><td>...</td><td>...</td><td>...</td><td>...</td><td>...</td><td>...</td><td>...</td><td>...</td><td>...</td><td>...</td><td>...</td></tr>\n",
       "<tr><td>NGC_6864_M_75</td><td>301.519</td><td>-21.921</td><td>20.9</td><td>-189.1</td><td>1.1</td><td>11.3</td><td>6.0</td><td>-0.559</td><td>-2.798</td><td>0.062</td><td>0.061</td><td>0.009</td><td>224.1</td><td>2.79</td><td>0.07</td><td>0.14</td><td>0.023</td></tr>\n",
       "<tr><td>NGC_6934</td><td>308.547</td><td>7.40447</td><td>15.6</td><td>-406.2</td><td>0.7</td><td>5.5</td><td>6.0</td><td>-2.636</td><td>-4.667</td><td>0.06</td><td>0.06</td><td>0.009</td><td>336.5</td><td>4.04</td><td>0.069</td><td>0.112</td><td>0.011</td></tr>\n",
       "<tr><td>NGC_6981_M_72</td><td>313.365</td><td>-12.537</td><td>17.0</td><td>-331.4</td><td>1.5</td><td>3.2</td><td>6.0</td><td>-1.233</td><td>-3.29</td><td>0.062</td><td>0.061</td><td>0.016</td><td>350.2</td><td>3.0</td><td>0.047</td><td>0.153</td><td>0.01</td></tr>\n",
       "<tr><td>NGC_7006</td><td>315.372</td><td>16.1873</td><td>41.2</td><td>-383.5</td><td>0.7</td><td>3.6</td><td>5.0</td><td>-0.102</td><td>-0.569</td><td>0.067</td><td>0.068</td><td>-0.013</td><td>137.2</td><td>1.96</td><td>0.0</td><td>0.172</td><td>0.026</td></tr>\n",
       "<tr><td>NGC_7078_M_15</td><td>322.493</td><td>12.167</td><td>10.4</td><td>-106.8</td><td>0.2</td><td>13.6</td><td>15.0</td><td>-0.643</td><td>-3.763</td><td>0.051</td><td>0.051</td><td>0.001</td><td>2198.4</td><td>9.92</td><td>0.15</td><td>0.227</td><td>0.032</td></tr>\n",
       "<tr><td>NGC_7089_M_2</td><td>323.362</td><td>-0.8232</td><td>11.5</td><td>-3.7</td><td>0.3</td><td>10.7</td><td>15.0</td><td>3.518</td><td>-2.145</td><td>0.054</td><td>0.054</td><td>0.013</td><td>1369.4</td><td>6.15</td><td>0.144</td><td>0.208</td><td>0.01</td></tr>\n",
       "<tr><td>NGC_7099_M_30</td><td>325.092</td><td>-23.179</td><td>8.1</td><td>-185.2</td><td>0.2</td><td>5.6</td><td>12.0</td><td>-0.694</td><td>-7.271</td><td>0.055</td><td>0.054</td><td>0.031</td><td>1414.1</td><td>5.76</td><td>0.121</td><td>0.237</td><td>0.013</td></tr>\n",
       "<tr><td>Pal_12</td><td>326.661</td><td>-21.252</td><td>19.0</td><td>27.9</td><td>0.3</td><td>0.7</td><td>4.0</td><td>-3.249</td><td>-3.303</td><td>0.067</td><td>0.067</td><td>0.034</td><td>99.7</td><td>1.48</td><td>0.0</td><td>0.302</td><td>0.016</td></tr>\n",
       "<tr><td>Pal_13</td><td>346.685</td><td>12.772</td><td>26.0</td><td>25.9</td><td>0.3</td><td>0.5</td><td>3.0</td><td>1.615</td><td>0.142</td><td>0.101</td><td>0.089</td><td>0.016</td><td>34.1</td><td>0.76</td><td>0.0</td><td>0.379</td><td>0.007</td></tr>\n",
       "<tr><td>NGC_7492</td><td>347.11</td><td>-15.611</td><td>26.3</td><td>-176.7</td><td>0.3</td><td>1.6</td><td>5.0</td><td>0.799</td><td>-2.273</td><td>0.065</td><td>0.064</td><td>0.009</td><td>125.9</td><td>1.51</td><td>0.0</td><td>0.188</td><td>0.018</td></tr>\n",
       "</table>"
      ],
      "text/plain": [
       "<QTable length=150>\n",
       "     Name        ra     dec     dist  ...  rscale  pmdisp  pmscale  pmscale_e\n",
       "                deg     deg     kpc   ...  arcmin mas / yr mas / yr  mas / yr\n",
       "    str15     float64 float64 float64 ... float64 float64  float64   float64 \n",
       "------------- ------- ------- ------- ... ------- -------- -------- ---------\n",
       "NGC_104_47Tuc 6.02363 -72.081     4.5 ...    18.3    0.418    0.399     0.016\n",
       "      NGC_288 13.1885 -26.582     8.9 ...    6.05    0.082    0.227     0.017\n",
       "      NGC_362 15.8094 -70.848     8.6 ...     7.8    0.149    0.229     0.026\n",
       "    Whiting_1 30.7375 -3.2527    30.1 ...    0.48      0.0     2.71     2.451\n",
       "     NGC_1261 48.0675 -55.216    16.3 ...     4.1    0.093    0.153       0.0\n",
       "        Pal_1 53.3335  79.581    11.1 ...    0.68      0.0    0.507     0.252\n",
       "         AM_1 58.7595 -49.615   123.3 ...    0.37      0.0    0.794     0.045\n",
       "     Eridanus 66.1854 -21.186    90.1 ...    0.78      0.0    0.182     0.138\n",
       "        Pal_2 71.5246 31.3815    27.2 ...    1.52     0.02    0.375     0.121\n",
       "          ...     ...     ...     ... ...     ...      ...      ...       ...\n",
       "NGC_6864_M_75 301.519 -21.921    20.9 ...    2.79     0.07     0.14     0.023\n",
       "     NGC_6934 308.547 7.40447    15.6 ...    4.04    0.069    0.112     0.011\n",
       "NGC_6981_M_72 313.365 -12.537    17.0 ...     3.0    0.047    0.153      0.01\n",
       "     NGC_7006 315.372 16.1873    41.2 ...    1.96      0.0    0.172     0.026\n",
       "NGC_7078_M_15 322.493  12.167    10.4 ...    9.92     0.15    0.227     0.032\n",
       " NGC_7089_M_2 323.362 -0.8232    11.5 ...    6.15    0.144    0.208      0.01\n",
       "NGC_7099_M_30 325.092 -23.179     8.1 ...    5.76    0.121    0.237     0.013\n",
       "       Pal_12 326.661 -21.252    19.0 ...    1.48      0.0    0.302     0.016\n",
       "       Pal_13 346.685  12.772    26.0 ...    0.76      0.0    0.379     0.007\n",
       "     NGC_7492  347.11 -15.611    26.3 ...    1.51      0.0    0.188     0.018"
      ]
     },
     "execution_count": 11,
     "metadata": {},
     "output_type": "execute_result"
    }
   ],
   "source": [
    "drct = \"../scripts/get_globular_clusters/result.ecsv\"\n",
    "# summary_table = pd.read_csv(drct, sep='\\t')\n",
    "# summary_table = summary_table.iloc[1:,:]\n",
    "# summary_table.rename(columns={'# Name ':'Name'}, inplace=True)\n",
    "# summary_table['Name'] = summary_table['Name'].str.strip()\n",
    "# summary_table.set_index('Name', inplace=True)\n",
    "# summary_table.head()\n",
    "summary_table = QTable.read(drct)\n",
    "summary_table"
   ]
  },
  {
   "cell_type": "code",
   "execution_count": 12,
   "metadata": {},
   "outputs": [
    {
     "name": "stdout",
     "output_type": "stream",
     "text": [
      "/Users/nathanielstarkman/miniconda3/lib/python3.7/site-packages/astropy/units/quantity.py:481: RuntimeWarning: divide by zero encountered in true_divide\n",
      "  result = super().__array_ufunc__(function, method, *arrays, **kwargs)\n",
      "\n"
     ]
    },
    {
     "data": {
      "text/plain": [
       "[<matplotlib.lines.Line2D at 0x1205bf0d0>]"
      ]
     },
     "execution_count": 12,
     "metadata": {},
     "output_type": "execute_result"
    },
    {
     "name": "stdout",
     "output_type": "stream",
     "text": [
      "galpyWarning: actionAngleAdiabatic_c extension module not loaded, because of error 'dlopen(/Users/nathanielstarkman/Software/dynamics/galpy/galpy_actionAngle_c.cpython-37m-darwin.so, 6): Library not loaded: @rpath/libgsl.23.dylib\n",
      "  Referenced from: /Users/nathanielstarkman/Software/dynamics/galpy/galpy_actionAngle_c.cpython-37m-darwin.so\n",
      "  Reason: image not found' \n",
      "galpyWarning: actionAngleStaeckel_c extension module not loaded, because of error 'dlopen(/Users/nathanielstarkman/Software/dynamics/galpy/galpy_actionAngle_c.cpython-37m-darwin.so, 6): Library not loaded: @rpath/libgsl.23.dylib\n",
      "  Referenced from: /Users/nathanielstarkman/Software/dynamics/galpy/galpy_actionAngle_c.cpython-37m-darwin.so\n",
      "  Reason: image not found' \n",
      "/Users/nathanielstarkman/Software/dynamics/galpy/galpy/df/jeans.py:56: IntegrationWarning: The integral is probably divergent, or slowly convergent.\n",
      "  dens(r)/intFactor(r))\n",
      "\n",
      "/Users/nathanielstarkman/Software/dynamics/galpy/galpy/potential/PowerSphericalPotential.py:197: RuntimeWarning: invalid value encountered in double_scalars\n",
      "  return (3.-self.alpha)/4./numpy.pi/r**self.alpha\n",
      "\n"
     ]
    },
    {
     "data": {
      "text/plain": [
       "[<matplotlib.lines.Line2D at 0x1205bf650>]"
      ]
     },
     "execution_count": 12,
     "metadata": {},
     "output_type": "execute_result"
    },
    {
     "data": {
      "text/plain": [
       "<matplotlib.legend.Legend at 0x1200b1650>"
      ]
     },
     "execution_count": 12,
     "metadata": {},
     "output_type": "execute_result"
    },
    {
     "data": {
      "image/png": "[encoded data removed]",
      "text/plain": [
       "<Figure size 432x288 with 1 Axes>"
      ]
     },
     "metadata": {
      "image/png": {
       "height": 247,
       "width": 367
      },
      "needs_background": "light"
     },
     "output_type": "display_data"
    }
   ],
   "source": [
    "Mgc = 9e5 * u.solMass\n",
    "mu = (1e5 * u.solMass / Mgc).decompose()\n",
    "x = np.linspace(0, 2, num=50)\n",
    "a = 10 * u.pc\n",
    "G = constants.G\n",
    "\n",
    "sig2 = -(\n",
    "    G * Mgc\n",
    "    * (\n",
    "        -6 * mu\n",
    "        - 36 * x ** 2 * mu\n",
    "        - 70 * x ** 4 * mu\n",
    "        - 56 * x ** 6 * mu\n",
    "        - 16 * x ** 8 * mu\n",
    "        + 48 * x ** 3 * np.sqrt(1 + x ** 2) * mu\n",
    "        + 48 * x ** 5 * np.sqrt(1 + x ** 2) * mu\n",
    "        + 16 * x ** 7 * np.sqrt(1 + x ** 2) * mu\n",
    "        + x * np.sqrt(1 + x ** 2) * (-1 + 16 * mu)\n",
    "    )\n",
    ") / (6.0 * a * x * (1 + x ** 2))\n",
    "\n",
    "plt.plot(x, np.sqrt(sig2).to_value(u.km/u.s), label='Jeans')\n",
    "\n",
    "gc_pot = potential.PlummerPotential(amp=Mgc, b=a)\n",
    "bh_pot = potential.KeplerPotential(amp=mu * Mgc)\n",
    "\n",
    "tot_pot = gc_pot + bh_pot\n",
    "\n",
    "from galpy.df import jeans\n",
    "\n",
    "def sigmar(r, tot_pot):\n",
    "    return jeans.sigmar(tot_pot, r).to_value('km/s')\n",
    "\n",
    "siggalpy = np.array([sigmar(_x * a, tot_pot) for _x in x]) * u.km / u.s\n",
    "\n",
    "plt.plot(x, siggalpy.to_value(u.km/u.s), label='Galpy')\n",
    "plt.legend()"
   ]
  },
  {
   "cell_type": "code",
   "execution_count": 14,
   "metadata": {},
   "outputs": [
    {
     "data": {
      "text/latex": [
       "$[\\infty,~1.0118123 \\times 10^{9},~4.9226198 \\times 10^{8},~3.2310006 \\times 10^{8},~2.409851 \\times 10^{8},~1.933117 \\times 10^{8},~1.6259072 \\times 10^{8},~1.4136138 \\times 10^{8},~1.259198 \\times 10^{8},~1.1422887 \\times 10^{8},~1.050825 \\times 10^{8},~97725915,~91666042,~86569515,~82204551,~78406179,~75054615,~72061351,~69359962,~66899883,~64642107,~62556161,~60617951,~58808201,~57111311,~55514516,~54007251,~52580680,~51227337,~49940848,~48715721,~47547180,~46431037,~45363593,~44341552,~43361963,~42422166,~41519748,~40652515,~39818456,~39015728,~38242631,~37497593,~36779157,~36085971,~35416772,~34770385,~34145710,~33541716,~32957437] \\; \\mathrm{\\frac{m^{2}}{s^{2}}}$"
      ],
      "text/plain": [
       "<Quantity [           inf, 1.01181231e+09, 4.92261984e+08, 3.23100065e+08,\n",
       "           2.40985096e+08, 1.93311696e+08, 1.62590716e+08, 1.41361377e+08,\n",
       "           1.25919798e+08, 1.14228872e+08, 1.05082498e+08, 9.77259149e+07,\n",
       "           9.16660419e+07, 8.65695151e+07, 8.22045509e+07, 7.84061793e+07,\n",
       "           7.50546149e+07, 7.20613506e+07, 6.93599621e+07, 6.68998833e+07,\n",
       "           6.46421069e+07, 6.25561606e+07, 6.06179505e+07, 5.88082005e+07,\n",
       "           5.71113113e+07, 5.55145161e+07, 5.40072508e+07, 5.25806800e+07,\n",
       "           5.12273369e+07, 4.99408478e+07, 4.87157206e+07, 4.75471796e+07,\n",
       "           4.64310373e+07, 4.53635929e+07, 4.43415521e+07, 4.33619633e+07,\n",
       "           4.24221659e+07, 4.15197484e+07, 4.06525148e+07, 3.98184563e+07,\n",
       "           3.90157283e+07, 3.82426309e+07, 3.74975927e+07, 3.67791571e+07,\n",
       "           3.60859705e+07, 3.54167721e+07, 3.47703853e+07, 3.41457100e+07,\n",
       "           3.35417160e+07, 3.29574370e+07] m2 / s2>"
      ]
     },
     "execution_count": 14,
     "metadata": {},
     "output_type": "execute_result"
    }
   ],
   "source": [
    "sig2.decompose()"
   ]
  },
  {
   "cell_type": "markdown",
   "metadata": {},
   "source": [
    "<br><br>\n",
    "\n",
    "- - - \n",
    "- - - \n",
    "\n",
    "<span style='font-size:40px;font-weight:650'>\n",
    "    END\n",
    "</span>"
   ]
  }
 ],
 "metadata": {
  "kernel_info": {
   "name": "astrophd"
  },
  "kernelspec": {
   "display_name": "Python 3",
   "language": "python",
   "name": "python3"
  },
  "language_info": {
   "codemirror_mode": {
    "name": "ipython",
    "version": 3
   },
   "file_extension": ".py",
   "mimetype": "text/x-python",
   "name": "python",
   "nbconvert_exporter": "python",
   "pygments_lexer": "ipython3",
   "version": "3.7.4"
  },
  "nteract": {
   "version": "0.21.0"
  }
 },
 "nbformat": 4,
 "nbformat_minor": 4
}
