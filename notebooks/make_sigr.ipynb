{
 "cells": [
  {
   "cell_type": "markdown",
   "metadata": {},
   "source": [
    "# Title"
   ]
  },
  {
   "cell_type": "code",
   "execution_count": 1,
   "metadata": {
    "collapsed": false,
    "inputHidden": false,
    "jupyter": {
     "outputs_hidden": false
    },
    "outputHidden": false
   },
   "outputs": [],
   "source": [
    "\"\"\"markdown\n",
    "    TITLE   :\n",
    "    AUTHOR  :\n",
    "    PROJECT :\n",
    "\"\"\";\n",
    "\n",
    "__author__ = ''\n",
    "__version__ = ''"
   ]
  },
  {
   "cell_type": "markdown",
   "metadata": {},
   "source": [
    "<br><br>\n",
    "\n",
    "- - - \n",
    "- - - \n"
   ]
  },
  {
   "cell_type": "markdown",
   "metadata": {},
   "source": [
    "# Prepare"
   ]
  },
  {
   "cell_type": "markdown",
   "metadata": {
    "inputHidden": false,
    "outputHidden": false
   },
   "source": [
    "## Imports"
   ]
  },
  {
   "cell_type": "code",
   "execution_count": 4,
   "metadata": {
    "collapsed": false,
    "inputHidden": false,
    "jupyter": {
     "outputs_hidden": false
    },
    "outputHidden": false
   },
   "outputs": [],
   "source": [
    "from astroPHD import ipython\n",
    "ipython.run_imports(base=True, astropy=True, matplotlib=True, galpy=True, verbose_imports=False)\n",
    "from astropy import constants\n",
    "\n",
    "\n",
    "\n",
    "# GENERAL\n",
    "import pandas as pd\n",
    "\n",
    "# CUSTOM\n",
    "\n",
    "# PROJECT-SPECIFIC"
   ]
  },
  {
   "cell_type": "markdown",
   "metadata": {},
   "source": [
    "<br><br>\n",
    "\n",
    "- - - \n",
    "- - - \n"
   ]
  },
  {
   "cell_type": "markdown",
   "metadata": {},
   "source": [
    "# Code"
   ]
  },
  {
   "cell_type": "code",
   "execution_count": 5,
   "metadata": {},
   "outputs": [
    {
     "data": {
      "text/html": [
       "<div>\n",
       "<style scoped>\n",
       "    .dataframe tbody tr th:only-of-type {\n",
       "        vertical-align: middle;\n",
       "    }\n",
       "\n",
       "    .dataframe tbody tr th {\n",
       "        vertical-align: top;\n",
       "    }\n",
       "\n",
       "    .dataframe thead th {\n",
       "        text-align: right;\n",
       "    }\n",
       "</style>\n",
       "<table border=\"1\" class=\"dataframe\">\n",
       "  <thead>\n",
       "    <tr style=\"text-align: right;\">\n",
       "      <th></th>\n",
       "      <th>ra</th>\n",
       "      <th>dec</th>\n",
       "      <th>dist</th>\n",
       "      <th>vlos</th>\n",
       "      <th>vloserr</th>\n",
       "      <th>sigma</th>\n",
       "      <th>rmax</th>\n",
       "      <th>pmra</th>\n",
       "      <th>pmdec</th>\n",
       "      <th>pmra_e</th>\n",
       "      <th>pmdec_e</th>\n",
       "      <th>pmcorr</th>\n",
       "      <th>nstar</th>\n",
       "      <th>rscale</th>\n",
       "      <th>pmdisp</th>\n",
       "    </tr>\n",
       "    <tr>\n",
       "      <th>Name</th>\n",
       "      <th></th>\n",
       "      <th></th>\n",
       "      <th></th>\n",
       "      <th></th>\n",
       "      <th></th>\n",
       "      <th></th>\n",
       "      <th></th>\n",
       "      <th></th>\n",
       "      <th></th>\n",
       "      <th></th>\n",
       "      <th></th>\n",
       "      <th></th>\n",
       "      <th></th>\n",
       "      <th></th>\n",
       "      <th></th>\n",
       "    </tr>\n",
       "  </thead>\n",
       "  <tbody>\n",
       "    <tr>\n",
       "      <td>NGC_104_47Tuc</td>\n",
       "      <td>6.02363</td>\n",
       "      <td>-72.081</td>\n",
       "      <td>4.5</td>\n",
       "      <td>-17.2</td>\n",
       "      <td>0.2</td>\n",
       "      <td>12.2</td>\n",
       "      <td>40.0</td>\n",
       "      <td>5.237</td>\n",
       "      <td>-2.524</td>\n",
       "      <td>0.039</td>\n",
       "      <td>0.039</td>\n",
       "      <td>-0.002</td>\n",
       "      <td>23917.2</td>\n",
       "      <td>18.30</td>\n",
       "      <td>0.418</td>\n",
       "    </tr>\n",
       "    <tr>\n",
       "      <td>NGC_288</td>\n",
       "      <td>13.1885</td>\n",
       "      <td>-26.582</td>\n",
       "      <td>8.9</td>\n",
       "      <td>-44.8</td>\n",
       "      <td>0.1</td>\n",
       "      <td>3.3</td>\n",
       "      <td>12.0</td>\n",
       "      <td>4.267</td>\n",
       "      <td>-5.636</td>\n",
       "      <td>0.054</td>\n",
       "      <td>0.053</td>\n",
       "      <td>0.018</td>\n",
       "      <td>2555.2</td>\n",
       "      <td>6.05</td>\n",
       "      <td>0.082</td>\n",
       "    </tr>\n",
       "    <tr>\n",
       "      <td>NGC_362</td>\n",
       "      <td>15.8094</td>\n",
       "      <td>-70.848</td>\n",
       "      <td>8.6</td>\n",
       "      <td>223.3</td>\n",
       "      <td>0.3</td>\n",
       "      <td>8.8</td>\n",
       "      <td>12.0</td>\n",
       "      <td>6.730</td>\n",
       "      <td>-2.535</td>\n",
       "      <td>0.053</td>\n",
       "      <td>0.052</td>\n",
       "      <td>-0.004</td>\n",
       "      <td>1741.3</td>\n",
       "      <td>7.80</td>\n",
       "      <td>0.149</td>\n",
       "    </tr>\n",
       "    <tr>\n",
       "      <td>Whiting_1</td>\n",
       "      <td>30.7375</td>\n",
       "      <td>-3.2527</td>\n",
       "      <td>30.1</td>\n",
       "      <td>-130.4</td>\n",
       "      <td>1.8</td>\n",
       "      <td>0.3</td>\n",
       "      <td>3.0</td>\n",
       "      <td>-0.234</td>\n",
       "      <td>-1.782</td>\n",
       "      <td>0.115</td>\n",
       "      <td>0.094</td>\n",
       "      <td>-0.050</td>\n",
       "      <td>11.1</td>\n",
       "      <td>0.48</td>\n",
       "      <td>0.000</td>\n",
       "    </tr>\n",
       "    <tr>\n",
       "      <td>NGC_1261</td>\n",
       "      <td>48.0675</td>\n",
       "      <td>-55.216</td>\n",
       "      <td>16.3</td>\n",
       "      <td>71.4</td>\n",
       "      <td>0.2</td>\n",
       "      <td>5.8</td>\n",
       "      <td>10.0</td>\n",
       "      <td>1.632</td>\n",
       "      <td>-2.038</td>\n",
       "      <td>0.057</td>\n",
       "      <td>0.057</td>\n",
       "      <td>0.009</td>\n",
       "      <td>541.7</td>\n",
       "      <td>4.10</td>\n",
       "      <td>0.093</td>\n",
       "    </tr>\n",
       "  </tbody>\n",
       "</table>\n",
       "</div>"
      ],
      "text/plain": [
       "                    ra      dec  dist    vlos vloserr sigma  rmax    pmra  \\\n",
       "Name                                                                        \n",
       "NGC_104_47Tuc  6.02363  -72.081   4.5   -17.2     0.2  12.2  40.0   5.237   \n",
       "NGC_288        13.1885  -26.582   8.9   -44.8     0.1   3.3  12.0   4.267   \n",
       "NGC_362        15.8094  -70.848   8.6   223.3     0.3   8.8  12.0   6.730   \n",
       "Whiting_1      30.7375  -3.2527  30.1  -130.4     1.8   0.3   3.0  -0.234   \n",
       "NGC_1261       48.0675  -55.216  16.3    71.4     0.2   5.8  10.0   1.632   \n",
       "\n",
       "                pmdec pmra_e pmdec_e  pmcorr    nstar rscale pmdisp  \n",
       "Name                                                                 \n",
       "NGC_104_47Tuc  -2.524  0.039   0.039  -0.002  23917.2  18.30  0.418  \n",
       "NGC_288        -5.636  0.054   0.053   0.018   2555.2   6.05  0.082  \n",
       "NGC_362        -2.535  0.053   0.052  -0.004   1741.3   7.80  0.149  \n",
       "Whiting_1      -1.782  0.115   0.094  -0.050     11.1   0.48  0.000  \n",
       "NGC_1261       -2.038  0.057   0.057   0.009    541.7   4.10  0.093  "
      ]
     },
     "execution_count": 5,
     "metadata": {},
     "output_type": "execute_result"
    }
   ],
   "source": [
    "drct = \"../scripts/get_globular_clusters/result.txt\"\n",
    "summary_table = pd.read_csv(drct, sep='\\t')\n",
    "summary_table = summary_table.iloc[1:,:]\n",
    "summary_table.rename(columns={'# Name         ':'Name'}, inplace=True)\n",
    "summary_table['Name'] = summary_table['Name'].str.strip()\n",
    "summary_table.set_index('Name', inplace=True)\n",
    "summary_table.head()"
   ]
  },
  {
   "cell_type": "code",
   "execution_count": 36,
   "metadata": {},
   "outputs": [
    {
     "data": {
      "text/plain": [
       "[<matplotlib.lines.Line2D at 0x122800e10>]"
      ]
     },
     "execution_count": 36,
     "metadata": {},
     "output_type": "execute_result"
    },
    {
     "data": {
      "text/plain": [
       "[<matplotlib.lines.Line2D at 0x1227cbb90>]"
      ]
     },
     "execution_count": 36,
     "metadata": {},
     "output_type": "execute_result"
    },
    {
     "data": {
      "text/plain": [
       "<matplotlib.legend.Legend at 0x122849510>"
      ]
     },
     "execution_count": 36,
     "metadata": {},
     "output_type": "execute_result"
    },
    {
     "data": {
      "image/png": "[encoded data removed]",
      "text/plain": [
       "<Figure size 576x432 with 1 Axes>"
      ]
     },
     "metadata": {
      "image/png": {
       "height": 358,
       "width": 482
      }
     },
     "output_type": "display_data"
    }
   ],
   "source": [
    "Mgc = 9e5 * u.solMass\n",
    "mu = (1e5 * u.solMass / Mg).decompose()\n",
    "x = np.linspace(0, 2, num=50)\n",
    "a = 10 * u.pc\n",
    "G = constants.G\n",
    "\n",
    "sig2 = -(\n",
    "    G * Mgc\n",
    "    * (\n",
    "        -6 * mu\n",
    "        - 36 * x ** 2 * mu\n",
    "        - 70 * x ** 4 * mu\n",
    "        - 56 * x ** 6 * mu\n",
    "        - 16 * x ** 8 * mu\n",
    "        + 48 * x ** 3 * np.sqrt(1 + x ** 2) * mu\n",
    "        + 48 * x ** 5 * np.sqrt(1 + x ** 2) * mu\n",
    "        + 16 * x ** 7 * np.sqrt(1 + x ** 2) * mu\n",
    "        + x * np.sqrt(1 + x ** 2) * (-1 + 16 * mu)\n",
    "    )\n",
    ") / (6.0 * a * x * (1 + x ** 2))\n",
    "\n",
    "plt.plot(x, np.sqrt(sig2).to_value(u.km/u.s), label='Jeans')\n",
    "\n",
    "gc_pot = potential.PlummerPotential(amp=Mgc, b=a)\n",
    "bh_pot = potential.KeplerPotential(amp=mu * Mgc)\n",
    "\n",
    "tot_pot = gc_pot + bh_pot\n",
    "\n",
    "from galpy.df import jeans\n",
    "\n",
    "def sigmar(r, tot_pot):\n",
    "    return jeans.sigmar(tot_pot, r).to_value('km/s')\n",
    "\n",
    "siggalpy = np.array([sigmar(_x * a, tot_pot) for _x in x]) * u.km / u.s\n",
    "\n",
    "plt.plot(x, siggalpy.to_value(u.km/u.s), label='Galpy')\n",
    "plt.legend()"
   ]
  },
  {
   "cell_type": "markdown",
   "metadata": {},
   "source": [
    "## On a Grid"
   ]
  },
  {
   "cell_type": "markdown",
   "metadata": {
    "inputHidden": false,
    "jupyter": {
     "outputs_hidden": false
    },
    "outputHidden": false
   },
   "source": [
    "It might be a terrible idea to evaluate jeans modeling during the sampling... I had to kill it anyway. In contrast interpolating model grid seems feasible: I made a try by fitting mock data generated by Galpy w/ a sparse pre-computed mini-grid using grid points only (no interpolation b/w them) and it runs not badly. I think it is fine to interpolate given the profile are all smooth. @Nathaniel Starkman So it would be great to have a denser model grid to test (my laptop runs terribly slow), saved in arrays.\n",
    "\n",
    "At least we can show the 1st toy model which is close to observation for the mid report. Also I restructured GMM binning (in notebook/GMM.ipynb)."
   ]
  },
  {
   "cell_type": "code",
   "execution_count": 116,
   "metadata": {},
   "outputs": [
    {
     "data": {
      "text/latex": [
       "$23.95487 \\; \\mathrm{pc}$"
      ],
      "text/plain": [
       "<Quantity 23.95487025 pc>"
      ]
     },
     "execution_count": 116,
     "metadata": {},
     "output_type": "execute_result"
    }
   ],
   "source": [
    "dist = float(summary_table.loc['NGC_104_47Tuc', 'dist']) * u.kpc\n",
    "scale = float(summary_table.loc['NGC_104_47Tuc', 'rscale']) * u.arcmin\n",
    "\n",
    "_scale = dist * np.tan(scale)\n",
    "_scale.to('pc')"
   ]
  },
  {
   "cell_type": "code",
   "execution_count": 120,
   "metadata": {},
   "outputs": [],
   "source": [
    "# Grid Parameters for 47 Tuc\n",
    "\n",
    "gc_amp = np.linspace(9e5, 1.1e6, num=5e1) * u.solMass  # The GC mass varies pretty wildly: 10^4 - few*10^6\n",
    "gc_scale = np.linspace(0.5, 1.5, num=1e2)\n",
    "bh_amp = np.linspace(0, 1e5, num=1e2) * u.solMass\n",
    "\n",
    "# radius\n",
    "radii = np.linspace(0.01, 4, num=1e2)  # units of radius / scale_radius\n",
    "Z, phi = 0 * u.kpc, 0 * u.deg"
   ]
  },
  {
   "cell_type": "code",
   "execution_count": 121,
   "metadata": {},
   "outputs": [],
   "source": [
    "(\n",
    " gc_amp_m,    # [:, i, :, :] constant GC amplitude\n",
    " gc_scale_m,  # [i, :, :, :] constant GC scale\n",
    " bh_amp_m,    # [:, :, i, :] constant BH amp\n",
    " radii_m      # [:, :, :, i] constant radius\n",
    ") = np.meshgrid(gc_amp, gc_scale, bh_amp, radii)"
   ]
  },
  {
   "cell_type": "code",
   "execution_count": 122,
   "metadata": {},
   "outputs": [
    {
     "data": {
      "text/plain": [
       "(100, 50, 100, 100)"
      ]
     },
     "execution_count": 122,
     "metadata": {},
     "output_type": "execute_result"
    }
   ],
   "source": [
    "radii_m.shape"
   ]
  },
  {
   "cell_type": "code",
   "execution_count": 123,
   "metadata": {},
   "outputs": [],
   "source": [
    "gc_pot = potential.PlummerPotential(amp=gc_amp_m, b=gc_scale_m * _scale)\n",
    "bh_pot = potential.KeplerPotential(amp=bh_amp_m)\n",
    "\n",
    "tot_pot = gc_pot + bh_pot"
   ]
  },
  {
   "cell_type": "code",
   "execution_count": 124,
   "metadata": {},
   "outputs": [],
   "source": [
    "gc_pot_val = gc_pot(radii_m * _scale, Z, phi=0)"
   ]
  },
  {
   "cell_type": "code",
   "execution_count": 125,
   "metadata": {},
   "outputs": [],
   "source": [
    "bh_pot_val = bh_pot(radii_m * _scale, Z, phi=0)"
   ]
  },
  {
   "cell_type": "code",
   "execution_count": 126,
   "metadata": {},
   "outputs": [],
   "source": [
    "np.savez_compressed('gc-bh_pot_eval.npz',\n",
    "                    gc_pot_val=gc_pot_val.to_value(u.km**2/u.s**2),\n",
    "                    bh_pot_val=bh_pot_val.to_value(u.km**2/u.s**2))"
   ]
  },
  {
   "cell_type": "code",
   "execution_count": 127,
   "metadata": {},
   "outputs": [],
   "source": [
    "from galpy.df import jeans\n",
    "\n",
    "@np.vectorize\n",
    "def sigmar(r, gcamp, gcscale, bhamp):\n",
    "    gc_pot = potential.PlummerPotential(amp=gcamp * gc_amp.unit, b=gcscale * _scale)\n",
    "    bh_pot = potential.KeplerPotential(amp=bhamp * bh_amp.unit)\n",
    "\n",
    "    tot_pot = gc_pot + bh_pot\n",
    "    \n",
    "    return jeans.sigmar(tot_pot, r * _scale).to_value('km/s')"
   ]
  },
  {
   "cell_type": "code",
   "execution_count": 128,
   "metadata": {},
   "outputs": [
    {
     "data": {
      "text/plain": [
       "array([42.21203188, 18.57060938, 13.69309635, 11.30411984,  9.83289659,\n",
       "        8.82031202,  8.07579764,  7.50377099,  7.05013925,  6.68160579,\n",
       "        6.37637058,  6.11947491,  5.9002717 ,  5.710959  ,  5.54568376,\n",
       "        5.39996972,  5.2703386 ,  5.15405118,  5.0489257 ,  4.95320737,\n",
       "        4.86547285,  4.78455898,  4.70950892,  4.6395308 ,  4.5739657 ,\n",
       "        4.51226255,  4.45395829,  4.39866204,  4.34604244,  4.29581743,\n",
       "        4.2477459 ,  4.20162094,  4.15726426,  4.11452166,  4.0732592 ,\n",
       "        4.03336009,  3.99472208,  3.9572553 ,  3.92088043,  3.88552717,\n",
       "        3.85113294,  3.81764187,  3.78500379,  3.75317352,  3.7221102 ,\n",
       "        3.69177672,  3.66213924,  3.63316681,  3.60483099,  3.57710556,\n",
       "        3.54996629,  3.52339067,  3.49735776,  3.471848  ,  3.44684308,\n",
       "        3.4223258 ,  3.39827997,  3.37469034,  3.35154245,  3.32882263,\n",
       "        3.30651789,  3.28461588,  3.26310482,  3.24197349,  3.22121116,\n",
       "        3.20080758,  3.18075289,  3.16103769,  3.14165291,  3.12258986,\n",
       "        3.10384017,  3.0853958 ,  3.06724898,  3.04939223,  3.03181835,\n",
       "        3.01452037,  2.99749156,  2.98072543,  2.96421569,  2.94795628,\n",
       "        2.93194129,  2.91616505,  2.90062204,  2.88530691,  2.87021449,\n",
       "        2.85533977,  2.84067786,  2.82622405,  2.81197376,  2.79792253,\n",
       "        2.78406605,  2.77040013,  2.75692069,  2.74362376,  2.73050551,\n",
       "        2.71756219,  2.70479017,  2.69218591,  2.67974598,  2.66746702])"
      ]
     },
     "execution_count": 128,
     "metadata": {},
     "output_type": "execute_result"
    }
   ],
   "source": [
    "sigmar(radii, gc_amp[0].value, gc_scale[-1], bh_amp[-1].value)"
   ]
  },
  {
   "cell_type": "markdown",
   "metadata": {},
   "source": [
    "<br><br>\n",
    "\n",
    "- - - \n",
    "- - - \n",
    "\n",
    "<span style='font-size:40px;font-weight:650'>\n",
    "    END\n",
    "</span>"
   ]
  }
 ],
 "metadata": {
  "kernel_info": {
   "name": "astrophd"
  },
  "kernelspec": {
   "display_name": "Python 3",
   "language": "python",
   "name": "python3"
  },
  "language_info": {
   "codemirror_mode": {
    "name": "ipython",
    "version": 3
   },
   "file_extension": ".py",
   "mimetype": "text/x-python",
   "name": "python",
   "nbconvert_exporter": "python",
   "pygments_lexer": "ipython3",
   "version": "3.7.4"
  },
  "nteract": {
   "version": "0.21.0"
  }
 },
 "nbformat": 4,
 "nbformat_minor": 4
}
