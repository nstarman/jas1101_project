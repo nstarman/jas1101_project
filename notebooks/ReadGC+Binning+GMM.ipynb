{
 "cells": [
  {
   "cell_type": "code",
   "execution_count": 1,
   "metadata": {},
   "outputs": [],
   "source": [
    "import re\n",
    "import os\n",
    "import sys\n",
    "sys.path.insert(0, '../')\n",
    "\n",
    "import numpy as np\n",
    "import matplotlib.pyplot as plt\n",
    "import scipy.stats as stats\n",
    "import astropy.units as u\n",
    "import pandas as pd\n",
    "\n",
    "from src.utils import *\n",
    "from src.GMM import *\n",
    "\n",
    "%load_ext autoreload\n",
    "%autoreload 2"
   ]
  },
  {
   "cell_type": "code",
   "execution_count": 2,
   "metadata": {},
   "outputs": [
    {
     "data": {
      "text/html": [
       "<div>\n",
       "<style scoped>\n",
       "    .dataframe tbody tr th:only-of-type {\n",
       "        vertical-align: middle;\n",
       "    }\n",
       "\n",
       "    .dataframe tbody tr th {\n",
       "        vertical-align: top;\n",
       "    }\n",
       "\n",
       "    .dataframe thead th {\n",
       "        text-align: right;\n",
       "    }\n",
       "</style>\n",
       "<table border=\"1\" class=\"dataframe\">\n",
       "  <thead>\n",
       "    <tr style=\"text-align: right;\">\n",
       "      <th></th>\n",
       "      <th>ra</th>\n",
       "      <th>dec</th>\n",
       "      <th>dist</th>\n",
       "      <th>vlos</th>\n",
       "      <th>vloserr</th>\n",
       "      <th>sigma</th>\n",
       "      <th>rmax</th>\n",
       "      <th>pmra</th>\n",
       "      <th>pmdec</th>\n",
       "      <th>pmra_e</th>\n",
       "      <th>pmdec_e</th>\n",
       "      <th>pmcorr</th>\n",
       "      <th>nstar</th>\n",
       "      <th>rscale</th>\n",
       "      <th>pmdisp</th>\n",
       "    </tr>\n",
       "    <tr>\n",
       "      <th>Name</th>\n",
       "      <th></th>\n",
       "      <th></th>\n",
       "      <th></th>\n",
       "      <th></th>\n",
       "      <th></th>\n",
       "      <th></th>\n",
       "      <th></th>\n",
       "      <th></th>\n",
       "      <th></th>\n",
       "      <th></th>\n",
       "      <th></th>\n",
       "      <th></th>\n",
       "      <th></th>\n",
       "      <th></th>\n",
       "      <th></th>\n",
       "    </tr>\n",
       "  </thead>\n",
       "  <tbody>\n",
       "    <tr>\n",
       "      <td>NGC_104_47Tuc</td>\n",
       "      <td>6.02363</td>\n",
       "      <td>-72.081</td>\n",
       "      <td>4.5</td>\n",
       "      <td>-17.2</td>\n",
       "      <td>0.2</td>\n",
       "      <td>12.2</td>\n",
       "      <td>40.0</td>\n",
       "      <td>5.237</td>\n",
       "      <td>-2.524</td>\n",
       "      <td>0.039</td>\n",
       "      <td>0.039</td>\n",
       "      <td>-0.002</td>\n",
       "      <td>23917.2</td>\n",
       "      <td>18.30</td>\n",
       "      <td>0.418</td>\n",
       "    </tr>\n",
       "    <tr>\n",
       "      <td>NGC_288</td>\n",
       "      <td>13.1885</td>\n",
       "      <td>-26.582</td>\n",
       "      <td>8.9</td>\n",
       "      <td>-44.8</td>\n",
       "      <td>0.1</td>\n",
       "      <td>3.3</td>\n",
       "      <td>12.0</td>\n",
       "      <td>4.267</td>\n",
       "      <td>-5.636</td>\n",
       "      <td>0.054</td>\n",
       "      <td>0.053</td>\n",
       "      <td>0.018</td>\n",
       "      <td>2555.2</td>\n",
       "      <td>6.05</td>\n",
       "      <td>0.082</td>\n",
       "    </tr>\n",
       "    <tr>\n",
       "      <td>NGC_362</td>\n",
       "      <td>15.8094</td>\n",
       "      <td>-70.848</td>\n",
       "      <td>8.6</td>\n",
       "      <td>223.3</td>\n",
       "      <td>0.3</td>\n",
       "      <td>8.8</td>\n",
       "      <td>12.0</td>\n",
       "      <td>6.730</td>\n",
       "      <td>-2.535</td>\n",
       "      <td>0.053</td>\n",
       "      <td>0.052</td>\n",
       "      <td>-0.004</td>\n",
       "      <td>1741.3</td>\n",
       "      <td>7.80</td>\n",
       "      <td>0.149</td>\n",
       "    </tr>\n",
       "    <tr>\n",
       "      <td>Whiting_1</td>\n",
       "      <td>30.7375</td>\n",
       "      <td>-3.2527</td>\n",
       "      <td>30.1</td>\n",
       "      <td>-130.4</td>\n",
       "      <td>1.8</td>\n",
       "      <td>0.3</td>\n",
       "      <td>3.0</td>\n",
       "      <td>-0.234</td>\n",
       "      <td>-1.782</td>\n",
       "      <td>0.115</td>\n",
       "      <td>0.094</td>\n",
       "      <td>-0.050</td>\n",
       "      <td>11.1</td>\n",
       "      <td>0.48</td>\n",
       "      <td>0.000</td>\n",
       "    </tr>\n",
       "    <tr>\n",
       "      <td>NGC_1261</td>\n",
       "      <td>48.0675</td>\n",
       "      <td>-55.216</td>\n",
       "      <td>16.3</td>\n",
       "      <td>71.4</td>\n",
       "      <td>0.2</td>\n",
       "      <td>5.8</td>\n",
       "      <td>10.0</td>\n",
       "      <td>1.632</td>\n",
       "      <td>-2.038</td>\n",
       "      <td>0.057</td>\n",
       "      <td>0.057</td>\n",
       "      <td>0.009</td>\n",
       "      <td>541.7</td>\n",
       "      <td>4.10</td>\n",
       "      <td>0.093</td>\n",
       "    </tr>\n",
       "  </tbody>\n",
       "</table>\n",
       "</div>"
      ],
      "text/plain": [
       "                    ra      dec  dist    vlos vloserr sigma  rmax    pmra  \\\n",
       "Name                                                                        \n",
       "NGC_104_47Tuc  6.02363  -72.081   4.5   -17.2     0.2  12.2  40.0   5.237   \n",
       "NGC_288        13.1885  -26.582   8.9   -44.8     0.1   3.3  12.0   4.267   \n",
       "NGC_362        15.8094  -70.848   8.6   223.3     0.3   8.8  12.0   6.730   \n",
       "Whiting_1      30.7375  -3.2527  30.1  -130.4     1.8   0.3   3.0  -0.234   \n",
       "NGC_1261       48.0675  -55.216  16.3    71.4     0.2   5.8  10.0   1.632   \n",
       "\n",
       "                pmdec pmra_e pmdec_e  pmcorr    nstar rscale pmdisp  \n",
       "Name                                                                 \n",
       "NGC_104_47Tuc  -2.524  0.039   0.039  -0.002  23917.2  18.30  0.418  \n",
       "NGC_288        -5.636  0.054   0.053   0.018   2555.2   6.05  0.082  \n",
       "NGC_362        -2.535  0.053   0.052  -0.004   1741.3   7.80  0.149  \n",
       "Whiting_1      -1.782  0.115   0.094  -0.050     11.1   0.48  0.000  \n",
       "NGC_1261       -2.038  0.057   0.057   0.009    541.7   4.10  0.093  "
      ]
     },
     "execution_count": 2,
     "metadata": {},
     "output_type": "execute_result"
    }
   ],
   "source": [
    "drct = \"../scripts/get_globular_clusters/result.txt\"\n",
    "summary_table = pd.read_csv(drct, sep='\\t')\n",
    "summary_table = summary_table.iloc[1:,:]\n",
    "summary_table.rename(columns={'# Name         ':'Name'}, inplace=True)\n",
    "summary_table['Name'] = summary_table['Name'].str.strip()\n",
    "summary_table.set_index('Name', inplace=True)\n",
    "summary_table.head()"
   ]
  },
  {
   "cell_type": "code",
   "execution_count": 3,
   "metadata": {},
   "outputs": [
    {
     "data": {
      "text/plain": [
       "'18.30'"
      ]
     },
     "execution_count": 3,
     "metadata": {},
     "output_type": "execute_result"
    }
   ],
   "source": [
    "summary_table.loc['NGC_104_47Tuc', 'rscale']"
   ]
  },
  {
   "cell_type": "code",
   "execution_count": null,
   "metadata": {},
   "outputs": [],
   "source": []
  },
  {
   "cell_type": "code",
   "execution_count": null,
   "metadata": {},
   "outputs": [],
   "source": []
  },
  {
   "cell_type": "markdown",
   "metadata": {},
   "source": [
    "### Read and initial plot of data"
   ]
  },
  {
   "cell_type": "code",
   "execution_count": 4,
   "metadata": {},
   "outputs": [],
   "source": [
    "drct = \"../scripts/get_globular_clusters/output\""
   ]
  },
  {
   "cell_type": "code",
   "execution_count": 5,
   "metadata": {},
   "outputs": [
    {
     "data": {
      "text/html": [
       "<div>\n",
       "<style scoped>\n",
       "    .dataframe tbody tr th:only-of-type {\n",
       "        vertical-align: middle;\n",
       "    }\n",
       "\n",
       "    .dataframe tbody tr th {\n",
       "        vertical-align: top;\n",
       "    }\n",
       "\n",
       "    .dataframe thead th {\n",
       "        text-align: right;\n",
       "    }\n",
       "</style>\n",
       "<table border=\"1\" class=\"dataframe\">\n",
       "  <thead>\n",
       "    <tr style=\"text-align: right;\">\n",
       "      <th></th>\n",
       "      <th>x</th>\n",
       "      <th>y</th>\n",
       "      <th>pmx</th>\n",
       "      <th>pmy</th>\n",
       "      <th>pmx_e</th>\n",
       "      <th>pmy_e</th>\n",
       "      <th>pm_corr</th>\n",
       "      <th>g_mag</th>\n",
       "      <th>bp_rp</th>\n",
       "      <th>filter</th>\n",
       "      <th>memberprob</th>\n",
       "    </tr>\n",
       "  </thead>\n",
       "  <tbody>\n",
       "    <tr>\n",
       "      <td>0</td>\n",
       "      <td>-0.197768</td>\n",
       "      <td>-0.588896</td>\n",
       "      <td>4.437221</td>\n",
       "      <td>-3.046831</td>\n",
       "      <td>2.568937</td>\n",
       "      <td>2.304999</td>\n",
       "      <td>-0.435020</td>\n",
       "      <td>20.77880</td>\n",
       "      <td>0.816515</td>\n",
       "      <td>0</td>\n",
       "      <td>0.00000</td>\n",
       "    </tr>\n",
       "    <tr>\n",
       "      <td>1</td>\n",
       "      <td>-0.132277</td>\n",
       "      <td>-0.576262</td>\n",
       "      <td>-0.060467</td>\n",
       "      <td>-1.399454</td>\n",
       "      <td>1.140334</td>\n",
       "      <td>1.009628</td>\n",
       "      <td>-0.308144</td>\n",
       "      <td>20.19374</td>\n",
       "      <td>0.838819</td>\n",
       "      <td>0</td>\n",
       "      <td>0.00000</td>\n",
       "    </tr>\n",
       "    <tr>\n",
       "      <td>2</td>\n",
       "      <td>-0.130210</td>\n",
       "      <td>-0.584196</td>\n",
       "      <td>25.034540</td>\n",
       "      <td>2.431298</td>\n",
       "      <td>1.950605</td>\n",
       "      <td>1.598516</td>\n",
       "      <td>-0.185372</td>\n",
       "      <td>20.80205</td>\n",
       "      <td>2.071041</td>\n",
       "      <td>0</td>\n",
       "      <td>0.00000</td>\n",
       "    </tr>\n",
       "    <tr>\n",
       "      <td>3</td>\n",
       "      <td>-0.134829</td>\n",
       "      <td>-0.422390</td>\n",
       "      <td>4.965001</td>\n",
       "      <td>-1.958991</td>\n",
       "      <td>0.432121</td>\n",
       "      <td>0.295054</td>\n",
       "      <td>-0.275978</td>\n",
       "      <td>18.64288</td>\n",
       "      <td>0.965523</td>\n",
       "      <td>1</td>\n",
       "      <td>0.96083</td>\n",
       "    </tr>\n",
       "    <tr>\n",
       "      <td>4</td>\n",
       "      <td>-0.127499</td>\n",
       "      <td>-0.603662</td>\n",
       "      <td>0.654260</td>\n",
       "      <td>-0.609768</td>\n",
       "      <td>0.179726</td>\n",
       "      <td>0.137382</td>\n",
       "      <td>-0.125604</td>\n",
       "      <td>17.40447</td>\n",
       "      <td>1.302572</td>\n",
       "      <td>1</td>\n",
       "      <td>0.00000</td>\n",
       "    </tr>\n",
       "  </tbody>\n",
       "</table>\n",
       "</div>"
      ],
      "text/plain": [
       "          x         y        pmx       pmy     pmx_e     pmy_e   pm_corr  \\\n",
       "0 -0.197768 -0.588896   4.437221 -3.046831  2.568937  2.304999 -0.435020   \n",
       "1 -0.132277 -0.576262  -0.060467 -1.399454  1.140334  1.009628 -0.308144   \n",
       "2 -0.130210 -0.584196  25.034540  2.431298  1.950605  1.598516 -0.185372   \n",
       "3 -0.134829 -0.422390   4.965001 -1.958991  0.432121  0.295054 -0.275978   \n",
       "4 -0.127499 -0.603662   0.654260 -0.609768  0.179726  0.137382 -0.125604   \n",
       "\n",
       "      g_mag     bp_rp  filter  memberprob  \n",
       "0  20.77880  0.816515       0     0.00000  \n",
       "1  20.19374  0.838819       0     0.00000  \n",
       "2  20.80205  2.071041       0     0.00000  \n",
       "3  18.64288  0.965523       1     0.96083  \n",
       "4  17.40447  1.302572       1     0.00000  "
      ]
     },
     "execution_count": 5,
     "metadata": {},
     "output_type": "execute_result"
    }
   ],
   "source": [
    "gc = pd.read_csv(os.path.join(drct, \"NGC_104_47Tuc.csv\"), skiprows=54, sep=\" \")\n",
    "gc.head()"
   ]
  },
  {
   "cell_type": "code",
   "execution_count": 6,
   "metadata": {},
   "outputs": [],
   "source": [
    "gc[\"r\"] = np.hypot(gc.x, gc.y)\n",
    "gc[\"pm\"] = np.hypot(gc.pmx, gc.pmy)"
   ]
  },
  {
   "cell_type": "code",
   "execution_count": 7,
   "metadata": {},
   "outputs": [
    {
     "data": {
      "text/html": [
       "<div>\n",
       "<style scoped>\n",
       "    .dataframe tbody tr th:only-of-type {\n",
       "        vertical-align: middle;\n",
       "    }\n",
       "\n",
       "    .dataframe tbody tr th {\n",
       "        vertical-align: top;\n",
       "    }\n",
       "\n",
       "    .dataframe thead th {\n",
       "        text-align: right;\n",
       "    }\n",
       "</style>\n",
       "<table border=\"1\" class=\"dataframe\">\n",
       "  <thead>\n",
       "    <tr style=\"text-align: right;\">\n",
       "      <th></th>\n",
       "      <th>x</th>\n",
       "      <th>y</th>\n",
       "      <th>pmx</th>\n",
       "      <th>pmy</th>\n",
       "      <th>pmx_e</th>\n",
       "      <th>pmy_e</th>\n",
       "      <th>pm_corr</th>\n",
       "      <th>g_mag</th>\n",
       "      <th>bp_rp</th>\n",
       "      <th>filter</th>\n",
       "      <th>memberprob</th>\n",
       "      <th>r</th>\n",
       "      <th>pm</th>\n",
       "    </tr>\n",
       "  </thead>\n",
       "  <tbody>\n",
       "    <tr>\n",
       "      <td>count</td>\n",
       "      <td>126380.000000</td>\n",
       "      <td>126380.000000</td>\n",
       "      <td>126380.000000</td>\n",
       "      <td>126380.000000</td>\n",
       "      <td>126380.000000</td>\n",
       "      <td>126380.000000</td>\n",
       "      <td>126380.000000</td>\n",
       "      <td>126380.000000</td>\n",
       "      <td>107806.000000</td>\n",
       "      <td>126380.000000</td>\n",
       "      <td>126380.000000</td>\n",
       "      <td>126380.000000</td>\n",
       "      <td>126380.000000</td>\n",
       "    </tr>\n",
       "    <tr>\n",
       "      <td>mean</td>\n",
       "      <td>0.020448</td>\n",
       "      <td>-0.011716</td>\n",
       "      <td>4.551414</td>\n",
       "      <td>-2.277182</td>\n",
       "      <td>0.814111</td>\n",
       "      <td>0.675568</td>\n",
       "      <td>-0.111159</td>\n",
       "      <td>18.850155</td>\n",
       "      <td>0.935921</td>\n",
       "      <td>0.291953</td>\n",
       "      <td>0.189248</td>\n",
       "      <td>0.244169</td>\n",
       "      <td>5.624450</td>\n",
       "    </tr>\n",
       "    <tr>\n",
       "      <td>std</td>\n",
       "      <td>0.205895</td>\n",
       "      <td>0.208160</td>\n",
       "      <td>3.258890</td>\n",
       "      <td>2.235275</td>\n",
       "      <td>0.747640</td>\n",
       "      <td>0.661056</td>\n",
       "      <td>0.197171</td>\n",
       "      <td>1.388324</td>\n",
       "      <td>0.246328</td>\n",
       "      <td>0.454663</td>\n",
       "      <td>0.384176</td>\n",
       "      <td>0.163278</td>\n",
       "      <td>3.143767</td>\n",
       "    </tr>\n",
       "    <tr>\n",
       "      <td>min</td>\n",
       "      <td>-0.666213</td>\n",
       "      <td>-0.665482</td>\n",
       "      <td>-185.768100</td>\n",
       "      <td>-81.400120</td>\n",
       "      <td>0.023578</td>\n",
       "      <td>0.020528</td>\n",
       "      <td>-0.951285</td>\n",
       "      <td>10.600150</td>\n",
       "      <td>-1.243570</td>\n",
       "      <td>0.000000</td>\n",
       "      <td>0.000000</td>\n",
       "      <td>0.001046</td>\n",
       "      <td>0.014232</td>\n",
       "    </tr>\n",
       "    <tr>\n",
       "      <td>25%</td>\n",
       "      <td>-0.099703</td>\n",
       "      <td>-0.122219</td>\n",
       "      <td>3.726735</td>\n",
       "      <td>-2.915028</td>\n",
       "      <td>0.309020</td>\n",
       "      <td>0.250860</td>\n",
       "      <td>-0.225217</td>\n",
       "      <td>18.053233</td>\n",
       "      <td>0.801764</td>\n",
       "      <td>0.000000</td>\n",
       "      <td>0.000000</td>\n",
       "      <td>0.119399</td>\n",
       "      <td>4.726025</td>\n",
       "    </tr>\n",
       "    <tr>\n",
       "      <td>50%</td>\n",
       "      <td>0.011500</td>\n",
       "      <td>-0.006981</td>\n",
       "      <td>5.071260</td>\n",
       "      <td>-2.351073</td>\n",
       "      <td>0.573033</td>\n",
       "      <td>0.453512</td>\n",
       "      <td>-0.106138</td>\n",
       "      <td>19.053915</td>\n",
       "      <td>0.906712</td>\n",
       "      <td>0.000000</td>\n",
       "      <td>0.000000</td>\n",
       "      <td>0.191362</td>\n",
       "      <td>5.741681</td>\n",
       "    </tr>\n",
       "    <tr>\n",
       "      <td>75%</td>\n",
       "      <td>0.128428</td>\n",
       "      <td>0.105823</td>\n",
       "      <td>5.723011</td>\n",
       "      <td>-1.571697</td>\n",
       "      <td>1.048152</td>\n",
       "      <td>0.830895</td>\n",
       "      <td>-0.003526</td>\n",
       "      <td>19.852253</td>\n",
       "      <td>1.041331</td>\n",
       "      <td>1.000000</td>\n",
       "      <td>0.000000</td>\n",
       "      <td>0.331209</td>\n",
       "      <td>6.408186</td>\n",
       "    </tr>\n",
       "    <tr>\n",
       "      <td>max</td>\n",
       "      <td>0.666002</td>\n",
       "      <td>0.666213</td>\n",
       "      <td>107.301200</td>\n",
       "      <td>213.179700</td>\n",
       "      <td>5.227345</td>\n",
       "      <td>5.292846</td>\n",
       "      <td>0.982183</td>\n",
       "      <td>20.999300</td>\n",
       "      <td>4.339368</td>\n",
       "      <td>1.000000</td>\n",
       "      <td>0.998725</td>\n",
       "      <td>0.666647</td>\n",
       "      <td>282.763809</td>\n",
       "    </tr>\n",
       "  </tbody>\n",
       "</table>\n",
       "</div>"
      ],
      "text/plain": [
       "                   x              y            pmx            pmy  \\\n",
       "count  126380.000000  126380.000000  126380.000000  126380.000000   \n",
       "mean        0.020448      -0.011716       4.551414      -2.277182   \n",
       "std         0.205895       0.208160       3.258890       2.235275   \n",
       "min        -0.666213      -0.665482    -185.768100     -81.400120   \n",
       "25%        -0.099703      -0.122219       3.726735      -2.915028   \n",
       "50%         0.011500      -0.006981       5.071260      -2.351073   \n",
       "75%         0.128428       0.105823       5.723011      -1.571697   \n",
       "max         0.666002       0.666213     107.301200     213.179700   \n",
       "\n",
       "               pmx_e          pmy_e        pm_corr          g_mag  \\\n",
       "count  126380.000000  126380.000000  126380.000000  126380.000000   \n",
       "mean        0.814111       0.675568      -0.111159      18.850155   \n",
       "std         0.747640       0.661056       0.197171       1.388324   \n",
       "min         0.023578       0.020528      -0.951285      10.600150   \n",
       "25%         0.309020       0.250860      -0.225217      18.053233   \n",
       "50%         0.573033       0.453512      -0.106138      19.053915   \n",
       "75%         1.048152       0.830895      -0.003526      19.852253   \n",
       "max         5.227345       5.292846       0.982183      20.999300   \n",
       "\n",
       "               bp_rp         filter     memberprob              r  \\\n",
       "count  107806.000000  126380.000000  126380.000000  126380.000000   \n",
       "mean        0.935921       0.291953       0.189248       0.244169   \n",
       "std         0.246328       0.454663       0.384176       0.163278   \n",
       "min        -1.243570       0.000000       0.000000       0.001046   \n",
       "25%         0.801764       0.000000       0.000000       0.119399   \n",
       "50%         0.906712       0.000000       0.000000       0.191362   \n",
       "75%         1.041331       1.000000       0.000000       0.331209   \n",
       "max         4.339368       1.000000       0.998725       0.666647   \n",
       "\n",
       "                  pm  \n",
       "count  126380.000000  \n",
       "mean        5.624450  \n",
       "std         3.143767  \n",
       "min         0.014232  \n",
       "25%         4.726025  \n",
       "50%         5.741681  \n",
       "75%         6.408186  \n",
       "max       282.763809  "
      ]
     },
     "execution_count": 7,
     "metadata": {},
     "output_type": "execute_result"
    }
   ],
   "source": [
    "gc.describe()"
   ]
  },
  {
   "cell_type": "markdown",
   "metadata": {},
   "source": [
    "Spatial Distribution"
   ]
  },
  {
   "cell_type": "code",
   "execution_count": 8,
   "metadata": {},
   "outputs": [
    {
     "data": {
      "image/png": "[encoded data removed]",
      "text/plain": [
       "<Figure size 504x504 with 1 Axes>"
      ]
     },
     "metadata": {
      "needs_background": "light"
     },
     "output_type": "display_data"
    }
   ],
   "source": [
    "plt.figure(figsize=(7,7))\n",
    "H, xb, yb, _ = plt.hist2d(gc.x, gc.y, bins=200, range=[[-0.66,0.66],[-0.66,0.66]], norm=LogNorm(), cmap=\"gnuplot2\")"
   ]
  },
  {
   "cell_type": "code",
   "execution_count": 9,
   "metadata": {},
   "outputs": [
    {
     "data": {
      "text/plain": [
       "Text(0.5, 0, 'r')"
      ]
     },
     "execution_count": 9,
     "metadata": {},
     "output_type": "execute_result"
    },
    {
     "data": {
      "image/png": "[encoded data removed]",
      "text/plain": [
       "<Figure size 432x288 with 1 Axes>"
      ]
     },
     "metadata": {
      "needs_background": "light"
     },
     "output_type": "display_data"
    }
   ],
   "source": [
    "sns.distplot(gc.r)\n",
    "plt.xlabel(\"r\")"
   ]
  },
  {
   "cell_type": "markdown",
   "metadata": {},
   "source": [
    "Pruning by scale radius and upper limit of proper motion"
   ]
  },
  {
   "cell_type": "code",
   "execution_count": 10,
   "metadata": {},
   "outputs": [],
   "source": [
    "gcs = gc[(gc.r<18.3/60) & (gc.pm<15)]"
   ]
  },
  {
   "cell_type": "code",
   "execution_count": 23,
   "metadata": {},
   "outputs": [
    {
     "data": {
      "text/plain": [
       "Text(0.5, 0, 'r')"
      ]
     },
     "execution_count": 23,
     "metadata": {},
     "output_type": "execute_result"
    },
    {
     "data": {
      "image/png": "[encoded data removed]",
      "text/plain": [
       "<Figure size 504x360 with 1 Axes>"
      ]
     },
     "metadata": {
      "needs_background": "light"
     },
     "output_type": "display_data"
    }
   ],
   "source": [
    "sns.distplot(gcs.r)\n",
    "plt.xlabel(\"r\")"
   ]
  },
  {
   "cell_type": "markdown",
   "metadata": {},
   "source": [
    "Distribution of proper motion"
   ]
  },
  {
   "cell_type": "code",
   "execution_count": 11,
   "metadata": {},
   "outputs": [
    {
     "data": {
      "image/png": "[encoded data removed]",
      "text/plain": [
       "<Figure size 432x432 with 1 Axes>"
      ]
     },
     "metadata": {
      "needs_background": "light"
     },
     "output_type": "display_data"
    }
   ],
   "source": [
    "plt.figure(figsize=(6,6))\n",
    "H, xb, yb, _ = plt.hist2d(gcs.pmx, gcs.pmy, bins=100, range=[[-10,15],[-15,10]], norm=LogNorm(), cmap=\"gnuplot2\")"
   ]
  },
  {
   "cell_type": "code",
   "execution_count": 22,
   "metadata": {},
   "outputs": [
    {
     "data": {
      "text/plain": [
       "Text(0.5, 0, 'PM')"
      ]
     },
     "execution_count": 22,
     "metadata": {},
     "output_type": "execute_result"
    },
    {
     "data": {
      "image/png": "[encoded data removed]",
      "text/plain": [
       "<Figure size 504x360 with 1 Axes>"
      ]
     },
     "metadata": {
      "needs_background": "light"
     },
     "output_type": "display_data"
    }
   ],
   "source": [
    "sns.distplot(gcs.pm[gcs.pm<15])\n",
    "plt.xlabel(\"PM\")"
   ]
  },
  {
   "cell_type": "code",
   "execution_count": 26,
   "metadata": {},
   "outputs": [
    {
     "data": {
      "text/plain": [
       "Text(0, 0.5, 'PM')"
      ]
     },
     "execution_count": 26,
     "metadata": {},
     "output_type": "execute_result"
    },
    {
     "data": {
      "image/png": "[encoded data removed]",
      "text/plain": [
       "<Figure size 504x360 with 1 Axes>"
      ]
     },
     "metadata": {
      "needs_background": "light"
     },
     "output_type": "display_data"
    }
   ],
   "source": [
    "H, xb, yb, _ = plt.hist2d(gc.r, gc.pm, bins=50, range=[[0,0.6],[0,10]], cmap=\"gnuplot2\")\n",
    "# R scale\n",
    "plt.axvline(18.3/60, color=\"gold\")\n",
    "plt.xlabel(\"r\")\n",
    "plt.ylabel(\"PM\")"
   ]
  },
  {
   "cell_type": "markdown",
   "metadata": {},
   "source": [
    "### Binning Start From Here"
   ]
  },
  {
   "cell_type": "markdown",
   "metadata": {},
   "source": [
    "Bin the distribution of pm in radial bins."
   ]
  },
  {
   "cell_type": "code",
   "execution_count": 14,
   "metadata": {},
   "outputs": [
    {
     "data": {
      "image/png": "[encoded data removed]",
      "text/plain": [
       "<Figure size 576x432 with 1 Axes>"
      ]
     },
     "metadata": {
      "needs_background": "light"
     },
     "output_type": "display_data"
    }
   ],
   "source": [
    "bins = np.logspace(np.log10(0.1), np.log10(0.3), 9)\n",
    "\n",
    "sns.set_palette(\"RdBu\", len(bins))\n",
    "r_rbin, z_rbin = profile_binning(gc.r, gc.pm, bins=bins, z_clip=[2,15],\n",
    "                                 return_bin=False, plot=True)"
   ]
  },
  {
   "cell_type": "markdown",
   "metadata": {},
   "source": [
    "Acquire all the stars from a particular bin:"
   ]
  },
  {
   "cell_type": "code",
   "execution_count": 15,
   "metadata": {},
   "outputs": [],
   "source": [
    "z_bins = profile_binning(gcs.r, gcs.pm, bins=bins, z_clip=[2,15],\n",
    "                         return_bin=True, plot=False)"
   ]
  },
  {
   "cell_type": "code",
   "execution_count": 16,
   "metadata": {},
   "outputs": [
    {
     "data": {
      "text/plain": [
       "{'pm': array([6.00306609, 5.63815403, 3.6475262 , ..., 4.71123033, 6.73842532,\n",
       "        4.08646443]),\n",
       " 'r': array([0.22197456, 0.20309179, 0.21747407, ..., 0.21703462, 0.22469346,\n",
       "        0.21869273])}"
      ]
     },
     "execution_count": 16,
     "metadata": {},
     "output_type": "execute_result"
    }
   ],
   "source": [
    "z_bins[\"5\"]"
   ]
  },
  {
   "cell_type": "markdown",
   "metadata": {},
   "source": [
    "PM radial profile"
   ]
  },
  {
   "cell_type": "code",
   "execution_count": 27,
   "metadata": {},
   "outputs": [
    {
     "data": {
      "text/plain": [
       "Text(0, 0.5, 'PM')"
      ]
     },
     "execution_count": 27,
     "metadata": {},
     "output_type": "execute_result"
    },
    {
     "data": {
      "image/png": "[encoded data removed]",
      "text/plain": [
       "<Figure size 504x360 with 1 Axes>"
      ]
     },
     "metadata": {
      "needs_background": "light"
     },
     "output_type": "display_data"
    }
   ],
   "source": [
    "plt.figure(figsize=(7,5))\n",
    "plt.plot(r_rbin, z_rbin, \"k-o\")\n",
    "plt.xlabel(\"r\")\n",
    "plt.ylabel(\"PM\")"
   ]
  },
  {
   "cell_type": "markdown",
   "metadata": {},
   "source": [
    "### GMM start from here"
   ]
  },
  {
   "cell_type": "markdown",
   "metadata": {},
   "source": [
    "Perform GMM decomposition. The best number of gaussians is given by the lowest BIC. One can also specify the number of components by giving values to parameter n_comp in GMM( )."
   ]
  },
  {
   "cell_type": "code",
   "execution_count": 18,
   "metadata": {},
   "outputs": [
    {
     "ename": "TypeError",
     "evalue": "__init__() got an unexpected keyword argument 'max_n_comp'",
     "output_type": "error",
     "traceback": [
      "\u001b[0;31m---------------------------------------------------------------------------\u001b[0m",
      "\u001b[0;31mTypeError\u001b[0m                                 Traceback (most recent call last)",
      "\u001b[0;32m<ipython-input-18-4aa2164a6dc6>\u001b[0m in \u001b[0;36m<module>\u001b[0;34m\u001b[0m\n\u001b[1;32m      2\u001b[0m \u001b[0;32mfor\u001b[0m \u001b[0mi\u001b[0m \u001b[0;32min\u001b[0m \u001b[0mrange\u001b[0m\u001b[0;34m(\u001b[0m\u001b[0mlen\u001b[0m\u001b[0;34m(\u001b[0m\u001b[0mbins\u001b[0m\u001b[0;34m)\u001b[0m\u001b[0;34m-\u001b[0m\u001b[0;36m1\u001b[0m\u001b[0;34m)\u001b[0m\u001b[0;34m:\u001b[0m\u001b[0;34m\u001b[0m\u001b[0;34m\u001b[0m\u001b[0m\n\u001b[1;32m      3\u001b[0m     \u001b[0mgcb\u001b[0m \u001b[0;34m=\u001b[0m \u001b[0mgcs\u001b[0m\u001b[0;34m[\u001b[0m\u001b[0;34m(\u001b[0m\u001b[0mbins\u001b[0m\u001b[0;34m[\u001b[0m\u001b[0mi\u001b[0m\u001b[0;34m]\u001b[0m\u001b[0;34m<\u001b[0m\u001b[0mgcs\u001b[0m\u001b[0;34m.\u001b[0m\u001b[0mr\u001b[0m\u001b[0;34m)\u001b[0m\u001b[0;34m&\u001b[0m\u001b[0;34m(\u001b[0m\u001b[0mgcs\u001b[0m\u001b[0;34m.\u001b[0m\u001b[0mr\u001b[0m\u001b[0;34m<\u001b[0m\u001b[0mbins\u001b[0m\u001b[0;34m[\u001b[0m\u001b[0mi\u001b[0m\u001b[0;34m+\u001b[0m\u001b[0;36m1\u001b[0m\u001b[0;34m]\u001b[0m\u001b[0;34m)\u001b[0m\u001b[0;34m]\u001b[0m\u001b[0;34m\u001b[0m\u001b[0;34m\u001b[0m\u001b[0m\n\u001b[0;32m----> 4\u001b[0;31m     \u001b[0mgmm\u001b[0m \u001b[0;34m=\u001b[0m \u001b[0mGMM\u001b[0m\u001b[0;34m(\u001b[0m\u001b[0mgcb\u001b[0m\u001b[0;34m.\u001b[0m\u001b[0mpm\u001b[0m\u001b[0;34m,\u001b[0m \u001b[0mmax_n_comp\u001b[0m\u001b[0;34m=\u001b[0m\u001b[0;36m6\u001b[0m\u001b[0;34m,\u001b[0m \u001b[0mverbose\u001b[0m\u001b[0;34m=\u001b[0m\u001b[0;32mFalse\u001b[0m\u001b[0;34m)\u001b[0m\u001b[0;34m\u001b[0m\u001b[0;34m\u001b[0m\u001b[0m\n\u001b[0m\u001b[1;32m      5\u001b[0m     \u001b[0mgmm_bins\u001b[0m\u001b[0;34m.\u001b[0m\u001b[0mappend\u001b[0m\u001b[0;34m(\u001b[0m\u001b[0mgmm\u001b[0m\u001b[0;34m)\u001b[0m\u001b[0;34m\u001b[0m\u001b[0;34m\u001b[0m\u001b[0m\n",
      "\u001b[0;31mTypeError\u001b[0m: __init__() got an unexpected keyword argument 'max_n_comp'"
     ]
    }
   ],
   "source": [
    "gmm_bins = []\n",
    "for i in range(len(bins)-1):\n",
    "    gcb = gcs[(bins[i]<gcs.r)&(gcs.r<bins[i+1])]\n",
    "    gmm = GMM(gcb.pm, max_n_comp=6, verbose=False)\n",
    "    gmm_bins.append(gmm)"
   ]
  },
  {
   "cell_type": "markdown",
   "metadata": {},
   "source": [
    "Probability that a star is giving by the major population. Passing a subsample"
   ]
  },
  {
   "cell_type": "code",
   "execution_count": null,
   "metadata": {},
   "outputs": [],
   "source": [
    "prob_main_pop = predict_main_pop(z_bins[\"5\"][\"pm\"], gmm_bins[5])\n",
    "prob_main_pop"
   ]
  },
  {
   "cell_type": "markdown",
   "metadata": {},
   "source": [
    "Visualize GMM discrimination in each bin:"
   ]
  },
  {
   "cell_type": "code",
   "execution_count": null,
   "metadata": {},
   "outputs": [],
   "source": [
    "plot_predict_main_pop(gcs, bins, gmm_bins, p_thre=0.8)"
   ]
  },
  {
   "cell_type": "markdown",
   "metadata": {},
   "source": [
    "Visualize GMM results combining bins:"
   ]
  },
  {
   "cell_type": "code",
   "execution_count": null,
   "metadata": {},
   "outputs": [],
   "source": [
    "for i, b in enumerate(bins[:-1]):\n",
    "    \n",
    "    r = z_bins[str(i)][\"r\"]\n",
    "    pm = z_bins[str(i)][\"pm\"]\n",
    "    gmm = gmm_bins[i]\n",
    "    \n",
    "    prob_main_pop = predict_main_pop(pm, gmm)\n",
    "    is_main_pop = prob_main_pop > 0.8\n",
    "    \n",
    "    plt.scatter(r[is_main_pop], pm[is_main_pop], color=\"navy\", alpha=0.1, s=2)\n",
    "    plt.scatter(r[~is_main_pop], pm[~is_main_pop], color=\"gold\", alpha=0.3, s=5)\n",
    "    plt.axvline(bins[i], color=\"k\", alpha=0.2)\n",
    "    plt.ylabel(\"Proper Motion (mas)\")\n",
    "    plt.xlabel(\"Radius (deg)\")\n",
    "    plt.ylim(0, 15)\n",
    "plt.show()"
   ]
  },
  {
   "cell_type": "markdown",
   "metadata": {},
   "source": [
    "# Surface Density DON'T NEED TO DO"
   ]
  },
  {
   "cell_type": "markdown",
   "metadata": {},
   "source": [
    "TODO a much better estimate of the surface density than just a histrogram"
   ]
  },
  {
   "cell_type": "code",
   "execution_count": null,
   "metadata": {},
   "outputs": [],
   "source": [
    "suface_density = []\n",
    "\n",
    "for i, b in enumerate(bins[:-1]):\n",
    "    \n",
    "    r = z_bins[str(i)][\"r\"]\n",
    "    pm = z_bins[str(i)][\"pm\"]\n",
    "    gmm = gmm_bins[i]\n",
    "    \n",
    "    prob_main_pop = predict_main_pop(pm, gmm)\n",
    "    is_main_pop = prob_main_pop > 0.8\n",
    "    \n",
    "    area = np.pi * (bins[i+1]**2 - b**2)\n",
    "    suface_density.append(len(r) / area)\n",
    "\n",
    "plt.plot((bins[:-1]+bins[1:])/2, suface_density)"
   ]
  },
  {
   "cell_type": "code",
   "execution_count": null,
   "metadata": {},
   "outputs": [],
   "source": [
    "import astropy\n",
    "from astropy.modeling.functional_models import KingProjectedAnalytic1D\n",
    "from astropy.modeling import models, fitting"
   ]
  },
  {
   "cell_type": "code",
   "execution_count": null,
   "metadata": {},
   "outputs": [],
   "source": [
    "x = (bins[:-1]+bins[1:])/2\n",
    "y = suface_density\n",
    "KP_int = KingProjectedAnalytic1D(amplitude = 1, r_core = 1., r_tide = 1)\n",
    "\n",
    "fit_KP = fitting.LevMarLSQFitter()\n",
    "KP = fit_KP(KP_int, x, y, maxiter=1000)\n",
    "\n",
    "plt.figure(figsize=(8,5))\n",
    "plt.loglog(x, y, 'ko')\n",
    "plt.plot(x, KP(x), label='Gaussian')"
   ]
  },
  {
   "cell_type": "code",
   "execution_count": null,
   "metadata": {},
   "outputs": [],
   "source": [
    "KP.amplitude, KP.r_core, KP.r_tide"
   ]
  },
  {
   "cell_type": "markdown",
   "metadata": {},
   "source": [
    "# Velocity Dispersion"
   ]
  },
  {
   "cell_type": "markdown",
   "metadata": {},
   "source": [
    "Assume Plummer sphere model.\n",
    "\n",
    "Still need to normalize.\n",
    "\n",
    "Do better fit:\n",
    "\n",
    "    - https://symfit.readthedocs.io/en/stable/intro.html\n",
    "    - https://lmfit.github.io/lmfit-py/fitting.html\n",
    "    - and an MCMC (can use symfit)"
   ]
  },
  {
   "cell_type": "code",
   "execution_count": null,
   "metadata": {},
   "outputs": [],
   "source": [
    "from galpy.df import jeans\n",
    "from galpy import potential\n",
    "\n",
    "x = (bins[:-1]+bins[1:])/2 / summary_table"
   ]
  },
  {
   "cell_type": "code",
   "execution_count": null,
   "metadata": {},
   "outputs": [],
   "source": [
    "%%time\n",
    "\n",
    "for amp, scale in zip(np.linspace(10, 100, num=20), np.linspace(0.1, 5, num=20)):\n",
    "    pot = potential.PlummerPotential(amp=amp, b=scale) \n",
    "    model = np.array([jeans.sigmar(pot, r) for r in x])"
   ]
  },
  {
   "cell_type": "code",
   "execution_count": null,
   "metadata": {},
   "outputs": [],
   "source": [
    "# Grid Parameters for 47 Tuc\n",
    "\n",
    "gc_amp = np.logspace(9e5, 1.1e6, num=5e1) * u.solMass  # The GC mass varies pretty wildly: 10^4 - few*10^6\n",
    "gc_scale = np.linspace(0.5, 1.5, num=1e2)\n",
    "bh_amp = np.linspace(0, 1e5, num=1e2) * u.solMass\n",
    "\n",
    "# radius\n",
    "radii = np.linspace(0, 10, num=1e3)  # units of radius / scale_radius\n"
   ]
  },
  {
   "cell_type": "code",
   "execution_count": null,
   "metadata": {},
   "outputs": [],
   "source": [
    "pot = potential.PlummerPotential(amp=gc_amp, b=gc_scale * )"
   ]
  },
  {
   "cell_type": "code",
   "execution_count": null,
   "metadata": {},
   "outputs": [],
   "source": [
    "potential.PlummerPotential??"
   ]
  },
  {
   "cell_type": "code",
   "execution_count": null,
   "metadata": {},
   "outputs": [],
   "source": []
  },
  {
   "cell_type": "code",
   "execution_count": null,
   "metadata": {},
   "outputs": [],
   "source": []
  },
  {
   "cell_type": "code",
   "execution_count": null,
   "metadata": {},
   "outputs": [],
   "source": []
  },
  {
   "cell_type": "code",
   "execution_count": null,
   "metadata": {},
   "outputs": [],
   "source": []
  },
  {
   "cell_type": "code",
   "execution_count": null,
   "metadata": {},
   "outputs": [],
   "source": [
    "rnorm = ((x * u.deg).to_value(u.rad) / (18.3 *u.arcmin).to_value(u.rad))\n",
    "\n",
    "from astropy import units as u\n",
    "amp = 10**6 * u.solMass\n",
    "scale = 1\n",
    "\n",
    "pot = potential.PlummerPotential(amp=amp, b=scale)\n",
    "model1 = np.array([jeans.sigmar(pot, r).to_value(u.km/u.s) for r in rnorm]) * u.km / u.s\n",
    "plt.plot(x, model1, label='NO')\n",
    "\n",
    "bh_amp=10**3 * u.solMass\n",
    "amp = 10**6 * u.solMass - bh_amp\n",
    "pot = potential.PlummerPotential(amp=amp, b=scale) + potential.KeplerPotential(amp=bh_amp)\n",
    "model2 = np.array([jeans.sigmar(pot, r).to_value(u.km/u.s) for r in rnorm]) * u.km / u.s\n",
    "plt.plot(x, model2, label='1e3')\n",
    "\n",
    "bh_amp=10**4 * u.solMass\n",
    "amp = 10**6 * u.solMass - bh_amp\n",
    "pot = potential.PlummerPotential(amp=amp, b=scale) + potential.KeplerPotential(amp=bh_amp)\n",
    "model3 = np.array([jeans.sigmar(pot, r).to_value(u.km/u.s) for r in rnorm]) * u.km / u.s\n",
    "plt.plot(x, model3, label=1e4)\n",
    "plt.legend()"
   ]
  },
  {
   "cell_type": "code",
   "execution_count": null,
   "metadata": {},
   "outputs": [],
   "source": [
    "import astropy.units as u\n",
    "from lmfit import Parameters, fit_report, minimize\n",
    "import galpy\n",
    "from galpy.df import jeans\n",
    "from galpy import potential\n",
    "\n",
    "fit_params = Parameters()\n",
    "fit_params.add('amp', value=100000, min=0)\n",
    "fit_params.add('scale', value=1, min=0)\n",
    "\n",
    "\n",
    "def residual(pars, x, data=None):\n",
    "    \"\"\"Model and subtract data.\"\"\"\n",
    "    vals = pars.valuesdict()\n",
    "    amp = vals['amp']\n",
    "    scale = vals['scale']\n",
    "\n",
    "    pot = potential.PlummerPotential(amp=amp, b=scale) \n",
    "    model = np.array([jeans.sigmar(pot, r) for r in x])\n",
    "\n",
    "    if data is None:\n",
    "        return model\n",
    "    return model - data\n",
    "\n",
    "\n",
    "# getting data\n",
    "vel_disp = []\n",
    "for i, b in enumerate(bins[:-1]):\n",
    "    \n",
    "    r = z_bins[str(i)][\"r\"]\n",
    "    pm = z_bins[str(i)][\"pm\"]\n",
    "    gmm = gmm_bins[i]\n",
    "    \n",
    "    prob_main_pop = predict_main_pop(pm, gmm)\n",
    "    is_main_pop = prob_main_pop > 0.8\n",
    "\n",
    "    vs = ((4 * u.kpc) * pm[is_main_pop] * u.mas/u.yr).to_value(u.km*u.rad/u.s)\n",
    "    \n",
    "    disp = np.var(vs)\n",
    "    \n",
    "    vel_disp.append(disp)\n",
    "\n",
    "x = (bins[:-1]+bins[1:])/2\n",
    "data = vel_disp\n",
    "\n",
    "plt.plot(x, vel_disp)\n",
    "mi = minimize(residual, fit_params, args=(x,), kws={'data': data})\n",
    "\n",
    "print(fit_report(mi))"
   ]
  },
  {
   "cell_type": "code",
   "execution_count": null,
   "metadata": {},
   "outputs": [],
   "source": [
    "plt.plot(x, data, 'b')\n",
    "plt.plot(x, data + residual(mi.params, x, data=data), 'r', label='best fit')\n",
    "plt.legend(loc='best')\n",
    "plt.show()"
   ]
  },
  {
   "cell_type": "markdown",
   "metadata": {},
   "source": [
    "With a BH"
   ]
  },
  {
   "cell_type": "code",
   "execution_count": null,
   "metadata": {},
   "outputs": [],
   "source": [
    "import astropy.units as u\n",
    "from lmfit import Parameters, fit_report, minimize\n",
    "import galpy\n",
    "from galpy.df import jeans\n",
    "from galpy import potential\n",
    "\n",
    "fit_params = Parameters()\n",
    "fit_params.add('amp', value=100000, min=0)\n",
    "fit_params.add('scale', value=1, min=0)\n",
    "fit_params.add('bh_amp', value=10000, min=0)\n",
    "\n",
    "\n",
    "def residual(pars, x, data=None):\n",
    "    \"\"\"Model and subtract data.\"\"\"\n",
    "    vals = pars.valuesdict()\n",
    "    amp = vals['amp']\n",
    "    scale = vals['scale']\n",
    "    bh_amp = vals['bh_amp']\n",
    "\n",
    "    pot = potential.PlummerPotential(amp=amp, b=scale) + potential.KeplerPotential(amp=bh_amp)\n",
    "    model = np.array([jeans.sigmar(pot, r) for r in x])\n",
    "\n",
    "    if data is None:\n",
    "        return model\n",
    "    return model - data\n",
    "\n",
    "\n",
    "# getting data\n",
    "vel_disp = []\n",
    "for i, b in enumerate(bins[:-1]):\n",
    "    \n",
    "    r = z_bins[str(i)][\"r\"]\n",
    "    pm = z_bins[str(i)][\"pm\"]\n",
    "    gmm = gmm_bins[i]\n",
    "    \n",
    "    prob_main_pop = predict_main_pop(pm, gmm)\n",
    "    is_main_pop = prob_main_pop > 0.8\n",
    "\n",
    "    vs = ((4 * u.kpc) * pm[is_main_pop] * u.mas/u.yr).to_value(u.km*u.rad/u.s)\n",
    "    \n",
    "    disp = np.var(vs)\n",
    "    \n",
    "    vel_disp.append(disp)\n",
    "\n",
    "x = (bins[:-1]+bins[1:])/2\n",
    "data = vel_disp\n",
    "\n",
    "mi = minimize(residual, fit_params, args=(x,), kws={'data': data})\n",
    "\n",
    "plt.plot(x, data, 'b')\n",
    "plt.plot(x, data + residual(mi.params, x, data=data), 'r', label='best fit')\n",
    "plt.legend(loc='best')\n",
    "plt.show()\n",
    "\n",
    "print(fit_report(mi))"
   ]
  },
  {
   "cell_type": "code",
   "execution_count": null,
   "metadata": {},
   "outputs": [],
   "source": [
    "galpy.potential.Kin "
   ]
  },
  {
   "cell_type": "code",
   "execution_count": null,
   "metadata": {},
   "outputs": [],
   "source": [
    "# raise Exception('Run MCMC?')\n",
    "\n",
    "# import lmfit as lf\n",
    "\n",
    "# mi.params.add('__lnsigma', value=np.log(0.1), min=np.log(0.001), max=np.log(2))\n",
    "\n",
    "# res = lf.minimize(residual, method='emcee', args=(x,), kws={'data': data}, nan_policy='omit', burn=300, steps=1000, thin=20,\n",
    "#                   params=mi.params, is_weighted=False, progress=True)\n",
    "\n",
    "# plt.plot(res.acceptance_fraction)\n",
    "# plt.xlabel('walker')\n",
    "# plt.ylabel('acceptance fraction')\n",
    "# plt.show()\n",
    "\n",
    "# import corner\n",
    "\n",
    "# emcee_plot = corner.corner(res.flatchain, labels=res.var_names,\n",
    "#                            truths=list(res.params.valuesdict().values()))"
   ]
  },
  {
   "cell_type": "code",
   "execution_count": null,
   "metadata": {},
   "outputs": [],
   "source": []
  }
 ],
 "metadata": {
  "kernelspec": {
   "display_name": "Python 3",
   "language": "python",
   "name": "python3"
  },
  "language_info": {
   "codemirror_mode": {
    "name": "ipython",
    "version": 3
   },
   "file_extension": ".py",
   "mimetype": "text/x-python",
   "name": "python",
   "nbconvert_exporter": "python",
   "pygments_lexer": "ipython3",
   "version": "3.7.4"
  }
 },
 "nbformat": 4,
 "nbformat_minor": 4
}
